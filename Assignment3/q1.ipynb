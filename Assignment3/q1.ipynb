{
  "nbformat": 4,
  "nbformat_minor": 5,
  "metadata": {
    "kernelspec": {
      "display_name": "Python 3",
      "language": "python",
      "name": "python3"
    },
    "language_info": {
      "codemirror_mode": {
        "name": "ipython",
        "version": 3
      },
      "file_extension": ".py",
      "mimetype": "text/x-python",
      "name": "python",
      "nbconvert_exporter": "python",
      "pygments_lexer": "ipython3",
      "version": "3.8.3"
    },
    "colab": {
      "name": "q1.ipynb",
      "provenance": []
    }
  },
  "cells": [
    {
      "cell_type": "code",
      "metadata": {
        "id": "0hlSYXx_SOLL"
      },
      "source": [
        "import torch\n",
        "import torch.nn as nn\n",
        "import torch.nn.functional as F\n",
        "import torchvision\n",
        "import torchvision.transforms as transforms\n",
        "import matplotlib.pyplot as plt\n",
        "import numpy as np"
      ],
      "id": "0hlSYXx_SOLL",
      "execution_count": null,
      "outputs": []
    },
    {
      "cell_type": "code",
      "metadata": {
        "id": "tj-XXKaVSOLX",
        "outputId": "c7d1f15c-7a3a-4426-f0d9-05801a7e4df6"
      },
      "source": [
        "Configurations={}\n",
        "Configurations[\"device\"] = torch.device('cuda' if torch.cuda.is_available() else 'cpu')\n",
        "print(Configurations[\"device\"])"
      ],
      "id": "tj-XXKaVSOLX",
      "execution_count": null,
      "outputs": [
        {
          "output_type": "stream",
          "text": [
            "cuda\n"
          ],
          "name": "stdout"
        }
      ]
    },
    {
      "cell_type": "code",
      "metadata": {
        "id": "uQwC7dlASOLY"
      },
      "source": [
        "Configurations[\"transform\"] = transforms.Compose(\n",
        "    [\n",
        "     transforms.ToTensor(),\n",
        "     transforms.Normalize((0.5, 0.5, 0.5), (0.5, 0.5, 0.5))\n",
        "    ])"
      ],
      "id": "uQwC7dlASOLY",
      "execution_count": null,
      "outputs": []
    },
    {
      "cell_type": "code",
      "metadata": {
        "id": "z1SRv7ObSOLY",
        "outputId": "70ce54ab-0edf-46f7-c15b-712de3f04dab"
      },
      "source": [
        "batch_size = 4\n",
        "train_dataset = torchvision.datasets.CIFAR10(root='./data', train=True, download=True, transform=Configurations[\"transform\"])\n",
        "test_dataset = torchvision.datasets.CIFAR10(root='./data', train=False, download=True, transform=Configurations[\"transform\"])\n",
        "train_loader = torch.utils.data.DataLoader(train_dataset, batch_size=batch_size, shuffle=True)\n",
        "train_chk=torch.utils.data.DataLoader(train_dataset, shuffle=True)\n",
        "test_loader = torch.utils.data.DataLoader(test_dataset, batch_size=batch_size, shuffle=False)"
      ],
      "id": "z1SRv7ObSOLY",
      "execution_count": null,
      "outputs": [
        {
          "output_type": "stream",
          "text": [
            "Files already downloaded and verified\n",
            "Files already downloaded and verified\n"
          ],
          "name": "stdout"
        }
      ]
    },
    {
      "cell_type": "markdown",
      "metadata": {
        "id": "IJ7rvnu5SOLZ"
      },
      "source": [
        "### Use all three channels for the classification"
      ],
      "id": "IJ7rvnu5SOLZ"
    },
    {
      "cell_type": "code",
      "metadata": {
        "id": "B8FOOl7GSOLZ",
        "outputId": "1080b156-a9ac-46c2-ee4e-6b7ce801ed5c"
      },
      "source": [
        "sample_data = iter(train_loader)\n",
        "image,_ = sample_data.next()\n",
        "print(image.shape)"
      ],
      "id": "B8FOOl7GSOLZ",
      "execution_count": null,
      "outputs": [
        {
          "output_type": "stream",
          "text": [
            "torch.Size([4, 3, 32, 32])\n"
          ],
          "name": "stdout"
        }
      ]
    },
    {
      "cell_type": "code",
      "metadata": {
        "id": "vUDpdbi0SOLZ"
      },
      "source": [
        "def model_train(model,learning_Rate,num_epochs):\n",
        "    Accuracy=[]\n",
        "    ep=[]\n",
        "    criterion = nn.CrossEntropyLoss()\n",
        "    #Use SGD optimizer\n",
        "    optimizer = torch.optim.SGD(model.parameters(), lr=learning_rate)\n",
        "\n",
        "    n_total_steps = len(train_loader)\n",
        "    for epoch in range(num_epochs):\n",
        "        for i, (images, labels) in enumerate(train_loader):\n",
        "            images = images.to(Configurations[\"device\"])\n",
        "            labels = labels.to(Configurations[\"device\"])         \n",
        "            outputs = model(images)\n",
        "           \n",
        "            loss = criterion(outputs, labels)\n",
        "            optimizer.zero_grad()\n",
        "            loss.backward()\n",
        "            optimizer.step()\n",
        "\n",
        "            if (i+1) % 2000 == 0:\n",
        "                print (f'Epoch [{epoch+1}/{num_epochs}], Step [{i+1}/{n_total_steps}], Loss: {loss.item():.4f}')\n",
        "        n_samples=0\n",
        "        n_correct=0\n",
        "        for images, labels in train_loader:\n",
        "            images = images.to(Configurations[\"device\"])\n",
        "            labels = labels.to(Configurations[\"device\"])\n",
        "            output=model(images)\n",
        "            _, predicted = torch.max(output, 1)\n",
        "            \n",
        "            n_samples += labels.size(0)\n",
        "            n_correct += (predicted == labels).sum().item()\n",
        "        acc = 100.0 * n_correct / n_samples\n",
        "        print(\"Training Accuracy - \",acc)\n",
        "        Accuracy.append(acc)\n",
        "        ep.append(epoch)\n",
        "\n",
        "    print('Finished Training')\n",
        "    PATH = './cnn.pth'\n",
        "    torch.save(model.state_dict(), PATH)\n",
        "    return model,Accuracy,ep\n",
        "\n",
        "\n",
        "def result_prediction(model):\n",
        "    with torch.no_grad():\n",
        "        n_correct = 0\n",
        "        n_samples = 0\n",
        "        n_class_correct = [0 for i in range(10)]\n",
        "        n_class_samples = [0 for i in range(10)]\n",
        "        for images, labels in test_loader:\n",
        "            images = images.to(Configurations[\"device\"])\n",
        "            labels = labels.to(Configurations[\"device\"])\n",
        "            outputs = model(images)\n",
        "            # max returns (value ,index)\n",
        "            _, predicted = torch.max(outputs, 1)\n",
        "            n_samples += labels.size(0)\n",
        "            n_correct += (predicted == labels).sum().item()\n",
        "            \n",
        "            for i in range(batch_size):\n",
        "                label = labels[i]\n",
        "                pred = predicted[i]\n",
        "                if (label == pred):\n",
        "                    n_class_correct[label] += 1\n",
        "                n_class_samples[label] += 1\n",
        "\n",
        "        acc1 = 100.0 * n_correct / n_samples\n",
        "        print(f'Accuracy of the network: {acc1} %')\n",
        "\n",
        "        for i in range(10):\n",
        "            acc = 100.0 * n_class_correct[i] / n_class_samples[i]\n",
        "            print(f'Accuracy of {classes[i]}: {acc} %')\n",
        "    return acc1\n"
      ],
      "id": "vUDpdbi0SOLZ",
      "execution_count": null,
      "outputs": []
    },
    {
      "cell_type": "markdown",
      "metadata": {
        "id": "7wBlz_xASOLa"
      },
      "source": [
        "### 3(A) No BatchNormalization"
      ],
      "id": "7wBlz_xASOLa"
    },
    {
      "cell_type": "code",
      "metadata": {
        "id": "vM8pL3AXSOLa"
      },
      "source": [
        "class ConvNet_1(nn.Module):\n",
        "    def __init__(self):\n",
        "        super(ConvNet_1, self).__init__()\n",
        "        self.conv1 = nn.Conv2d(3, 6, 5)\n",
        "        self.pool = nn.MaxPool2d(2, 2)\n",
        "        self.conv2 = nn.Conv2d(6, 16, 5)\n",
        "        self.fc1 = nn.Linear(16 * 5 * 5,10)\n",
        "\n",
        "    def forward(self, x):\n",
        "        x = self.pool(F.relu(self.conv1(x))) \n",
        "        x = self.pool(F.relu(self.conv2(x)))\n",
        "        x = x.view(-1, 16 * 5 * 5)\n",
        "        x = self.fc1(x)\n",
        "        return x\n"
      ],
      "id": "vM8pL3AXSOLa",
      "execution_count": null,
      "outputs": []
    },
    {
      "cell_type": "code",
      "metadata": {
        "id": "mXfX1WSiSOLa",
        "outputId": "870257fe-1bdb-440b-e974-8f7c6fbff711"
      },
      "source": [
        "model1= ConvNet_1().to(Configurations[\"device\"])\n",
        "num_epochs = 20\n",
        "learning_rate = 0.001\n",
        "model1,Accuracy,ep =model_train(model1,learning_rate,num_epochs)"
      ],
      "id": "mXfX1WSiSOLa",
      "execution_count": null,
      "outputs": [
        {
          "output_type": "stream",
          "text": [
            "Epoch [1/20], Step [2000/12500], Loss: 2.2822\n",
            "Epoch [1/20], Step [4000/12500], Loss: 2.0591\n",
            "Epoch [1/20], Step [6000/12500], Loss: 2.7938\n",
            "Epoch [1/20], Step [8000/12500], Loss: 1.8755\n",
            "Epoch [1/20], Step [10000/12500], Loss: 2.0620\n",
            "Epoch [1/20], Step [12000/12500], Loss: 1.8289\n",
            "Training Accuracy -  37.97\n",
            "Epoch [2/20], Step [2000/12500], Loss: 1.4195\n",
            "Epoch [2/20], Step [4000/12500], Loss: 1.6661\n",
            "Epoch [2/20], Step [6000/12500], Loss: 1.2767\n",
            "Epoch [2/20], Step [8000/12500], Loss: 1.7242\n",
            "Epoch [2/20], Step [10000/12500], Loss: 1.6314\n",
            "Epoch [2/20], Step [12000/12500], Loss: 1.8307\n",
            "Training Accuracy -  45.422\n",
            "Epoch [3/20], Step [2000/12500], Loss: 2.0757\n",
            "Epoch [3/20], Step [4000/12500], Loss: 2.1107\n",
            "Epoch [3/20], Step [6000/12500], Loss: 1.3104\n",
            "Epoch [3/20], Step [8000/12500], Loss: 1.7293\n",
            "Epoch [3/20], Step [10000/12500], Loss: 1.1137\n",
            "Epoch [3/20], Step [12000/12500], Loss: 0.8983\n",
            "Training Accuracy -  49.936\n",
            "Epoch [4/20], Step [2000/12500], Loss: 0.8570\n",
            "Epoch [4/20], Step [4000/12500], Loss: 1.1852\n",
            "Epoch [4/20], Step [6000/12500], Loss: 1.0316\n",
            "Epoch [4/20], Step [8000/12500], Loss: 1.2502\n",
            "Epoch [4/20], Step [10000/12500], Loss: 1.3046\n",
            "Epoch [4/20], Step [12000/12500], Loss: 1.5461\n",
            "Training Accuracy -  52.13\n",
            "Epoch [5/20], Step [2000/12500], Loss: 2.1911\n",
            "Epoch [5/20], Step [4000/12500], Loss: 1.2102\n",
            "Epoch [5/20], Step [6000/12500], Loss: 2.1772\n",
            "Epoch [5/20], Step [8000/12500], Loss: 1.1705\n",
            "Epoch [5/20], Step [10000/12500], Loss: 1.8401\n",
            "Epoch [5/20], Step [12000/12500], Loss: 1.1474\n",
            "Training Accuracy -  53.088\n",
            "Epoch [6/20], Step [2000/12500], Loss: 0.6372\n",
            "Epoch [6/20], Step [4000/12500], Loss: 0.6188\n",
            "Epoch [6/20], Step [6000/12500], Loss: 1.3412\n",
            "Epoch [6/20], Step [8000/12500], Loss: 1.0695\n",
            "Epoch [6/20], Step [10000/12500], Loss: 2.2161\n",
            "Epoch [6/20], Step [12000/12500], Loss: 1.5089\n",
            "Training Accuracy -  55.26\n",
            "Epoch [7/20], Step [2000/12500], Loss: 2.0181\n",
            "Epoch [7/20], Step [4000/12500], Loss: 1.6940\n",
            "Epoch [7/20], Step [6000/12500], Loss: 0.9833\n",
            "Epoch [7/20], Step [8000/12500], Loss: 1.1334\n",
            "Epoch [7/20], Step [10000/12500], Loss: 1.7048\n",
            "Epoch [7/20], Step [12000/12500], Loss: 1.0421\n",
            "Training Accuracy -  57.266\n",
            "Epoch [8/20], Step [2000/12500], Loss: 2.1455\n",
            "Epoch [8/20], Step [4000/12500], Loss: 0.7420\n",
            "Epoch [8/20], Step [6000/12500], Loss: 1.3403\n",
            "Epoch [8/20], Step [8000/12500], Loss: 1.3303\n",
            "Epoch [8/20], Step [10000/12500], Loss: 1.4257\n",
            "Epoch [8/20], Step [12000/12500], Loss: 2.3446\n",
            "Training Accuracy -  57.752\n",
            "Epoch [9/20], Step [2000/12500], Loss: 1.0898\n",
            "Epoch [9/20], Step [4000/12500], Loss: 2.5620\n",
            "Epoch [9/20], Step [6000/12500], Loss: 1.3905\n",
            "Epoch [9/20], Step [8000/12500], Loss: 1.2868\n",
            "Epoch [9/20], Step [10000/12500], Loss: 1.3716\n",
            "Epoch [9/20], Step [12000/12500], Loss: 1.3286\n",
            "Training Accuracy -  58.122\n",
            "Epoch [10/20], Step [2000/12500], Loss: 1.6200\n",
            "Epoch [10/20], Step [4000/12500], Loss: 1.7994\n",
            "Epoch [10/20], Step [6000/12500], Loss: 1.5175\n",
            "Epoch [10/20], Step [8000/12500], Loss: 0.7027\n",
            "Epoch [10/20], Step [10000/12500], Loss: 1.3877\n",
            "Epoch [10/20], Step [12000/12500], Loss: 0.4581\n",
            "Training Accuracy -  59.672\n",
            "Epoch [11/20], Step [2000/12500], Loss: 1.0245\n",
            "Epoch [11/20], Step [4000/12500], Loss: 1.0225\n",
            "Epoch [11/20], Step [6000/12500], Loss: 0.6907\n",
            "Epoch [11/20], Step [8000/12500], Loss: 1.3608\n",
            "Epoch [11/20], Step [10000/12500], Loss: 1.8382\n",
            "Epoch [11/20], Step [12000/12500], Loss: 0.8751\n",
            "Training Accuracy -  60.186\n",
            "Epoch [12/20], Step [2000/12500], Loss: 1.7155\n",
            "Epoch [12/20], Step [4000/12500], Loss: 1.5179\n",
            "Epoch [12/20], Step [6000/12500], Loss: 0.1193\n",
            "Epoch [12/20], Step [8000/12500], Loss: 1.9820\n",
            "Epoch [12/20], Step [10000/12500], Loss: 0.5688\n",
            "Epoch [12/20], Step [12000/12500], Loss: 1.7039\n",
            "Training Accuracy -  60.536\n",
            "Epoch [13/20], Step [2000/12500], Loss: 0.8750\n",
            "Epoch [13/20], Step [4000/12500], Loss: 0.7567\n",
            "Epoch [13/20], Step [6000/12500], Loss: 1.0914\n",
            "Epoch [13/20], Step [8000/12500], Loss: 0.4985\n",
            "Epoch [13/20], Step [10000/12500], Loss: 0.7962\n",
            "Epoch [13/20], Step [12000/12500], Loss: 1.3850\n",
            "Training Accuracy -  60.844\n",
            "Epoch [14/20], Step [2000/12500], Loss: 0.6120\n",
            "Epoch [14/20], Step [4000/12500], Loss: 1.8105\n",
            "Epoch [14/20], Step [6000/12500], Loss: 0.2061\n",
            "Epoch [14/20], Step [8000/12500], Loss: 0.6282\n",
            "Epoch [14/20], Step [10000/12500], Loss: 1.9282\n",
            "Epoch [14/20], Step [12000/12500], Loss: 0.8834\n",
            "Training Accuracy -  62.656\n",
            "Epoch [15/20], Step [2000/12500], Loss: 1.9606\n",
            "Epoch [15/20], Step [4000/12500], Loss: 1.4232\n",
            "Epoch [15/20], Step [6000/12500], Loss: 0.5618\n",
            "Epoch [15/20], Step [8000/12500], Loss: 0.2211\n",
            "Epoch [15/20], Step [10000/12500], Loss: 0.9849\n",
            "Epoch [15/20], Step [12000/12500], Loss: 0.7421\n",
            "Training Accuracy -  62.68\n",
            "Epoch [16/20], Step [2000/12500], Loss: 1.0271\n",
            "Epoch [16/20], Step [4000/12500], Loss: 1.2428\n",
            "Epoch [16/20], Step [6000/12500], Loss: 1.1189\n",
            "Epoch [16/20], Step [8000/12500], Loss: 1.6268\n",
            "Epoch [16/20], Step [10000/12500], Loss: 1.6331\n",
            "Epoch [16/20], Step [12000/12500], Loss: 0.6656\n",
            "Training Accuracy -  62.804\n",
            "Epoch [17/20], Step [2000/12500], Loss: 1.3203\n",
            "Epoch [17/20], Step [4000/12500], Loss: 1.4396\n",
            "Epoch [17/20], Step [6000/12500], Loss: 1.6500\n",
            "Epoch [17/20], Step [8000/12500], Loss: 1.2194\n",
            "Epoch [17/20], Step [10000/12500], Loss: 0.6581\n",
            "Epoch [17/20], Step [12000/12500], Loss: 0.7479\n",
            "Training Accuracy -  63.324\n",
            "Epoch [18/20], Step [2000/12500], Loss: 0.2164\n",
            "Epoch [18/20], Step [4000/12500], Loss: 1.0394\n",
            "Epoch [18/20], Step [6000/12500], Loss: 1.9664\n",
            "Epoch [18/20], Step [8000/12500], Loss: 0.6558\n",
            "Epoch [18/20], Step [10000/12500], Loss: 1.1390\n",
            "Epoch [18/20], Step [12000/12500], Loss: 1.6418\n",
            "Training Accuracy -  64.038\n",
            "Epoch [19/20], Step [2000/12500], Loss: 0.4592\n",
            "Epoch [19/20], Step [4000/12500], Loss: 1.1777\n",
            "Epoch [19/20], Step [6000/12500], Loss: 0.8389\n",
            "Epoch [19/20], Step [8000/12500], Loss: 1.1847\n",
            "Epoch [19/20], Step [10000/12500], Loss: 0.4490\n",
            "Epoch [19/20], Step [12000/12500], Loss: 1.7159\n",
            "Training Accuracy -  63.32\n",
            "Epoch [20/20], Step [2000/12500], Loss: 0.6409\n",
            "Epoch [20/20], Step [4000/12500], Loss: 0.5031\n",
            "Epoch [20/20], Step [6000/12500], Loss: 1.2908\n",
            "Epoch [20/20], Step [8000/12500], Loss: 2.1132\n",
            "Epoch [20/20], Step [10000/12500], Loss: 1.8402\n",
            "Epoch [20/20], Step [12000/12500], Loss: 1.8232\n",
            "Training Accuracy -  64.404\n",
            "Finished Training\n"
          ],
          "name": "stdout"
        }
      ]
    },
    {
      "cell_type": "markdown",
      "metadata": {
        "id": "dAkIwPFjSOLb"
      },
      "source": [
        "#### Save the best model and show accuracy on test data"
      ],
      "id": "dAkIwPFjSOLb"
    },
    {
      "cell_type": "code",
      "metadata": {
        "id": "GAMvu6t0SOLb",
        "outputId": "8cefe350-97a2-4418-bd40-b12b15ac5818"
      },
      "source": [
        "classes = ('plane', 'car', 'bird', 'cat', 'deer', 'dog', 'frog', 'horse', 'ship', 'truck')\n",
        "model1_acc=result_prediction(model1)\n",
        "PATH = './model_conv_1.pth'\n",
        "torch.save(model1.state_dict(), PATH)"
      ],
      "id": "GAMvu6t0SOLb",
      "execution_count": null,
      "outputs": [
        {
          "output_type": "stream",
          "text": [
            "Accuracy of the network: 62.1 %\n",
            "Accuracy of plane: 77.8 %\n",
            "Accuracy of car: 79.0 %\n",
            "Accuracy of bird: 54.5 %\n",
            "Accuracy of cat: 42.7 %\n",
            "Accuracy of deer: 49.6 %\n",
            "Accuracy of dog: 42.4 %\n",
            "Accuracy of frog: 76.5 %\n",
            "Accuracy of horse: 65.3 %\n",
            "Accuracy of ship: 66.3 %\n",
            "Accuracy of truck: 66.9 %\n"
          ],
          "name": "stdout"
        }
      ]
    },
    {
      "cell_type": "markdown",
      "metadata": {
        "id": "zI-q_cXCSOLb"
      },
      "source": [
        "#### plot the accuracy vs epoch"
      ],
      "id": "zI-q_cXCSOLb"
    },
    {
      "cell_type": "code",
      "metadata": {
        "id": "oLFSnX8WSOLc",
        "outputId": "4f9deafb-3d67-45a1-ec8d-021f20b731bc"
      },
      "source": [
        "import matplotlib.pyplot as plt\n",
        "plt.scatter(ep,Accuracy)\n",
        "plt.plot(ep,Accuracy)\n",
        "plt.xlabel('number of epoch')\n",
        "plt.ylabel('Accuracy')"
      ],
      "id": "oLFSnX8WSOLc",
      "execution_count": null,
      "outputs": [
        {
          "output_type": "execute_result",
          "data": {
            "text/plain": [
              "Text(0, 0.5, 'Accuracy')"
            ]
          },
          "metadata": {
            "tags": []
          },
          "execution_count": 12
        },
        {
          "output_type": "display_data",
          "data": {
            "image/png": "[encoded data removed]",
            "text/plain": [
              "<Figure size 432x288 with 1 Axes>"
            ]
          },
          "metadata": {
            "tags": [],
            "needs_background": "light"
          }
        }
      ]
    },
    {
      "cell_type": "markdown",
      "metadata": {
        "id": "gByZb0_tSOLc"
      },
      "source": [
        "#### Show the model architecture using model"
      ],
      "id": "gByZb0_tSOLc"
    },
    {
      "cell_type": "code",
      "metadata": {
        "id": "wq-OoZnpSOLc",
        "outputId": "72c56f7f-e8b0-41f4-bc69-fa706dd6fd4a"
      },
      "source": [
        "print(model)"
      ],
      "id": "wq-OoZnpSOLc",
      "execution_count": null,
      "outputs": [
        {
          "output_type": "stream",
          "text": [
            "ConvNet_1(\n",
            "  (conv1): Conv2d(3, 6, kernel_size=(5, 5), stride=(1, 1))\n",
            "  (pool): MaxPool2d(kernel_size=2, stride=2, padding=0, dilation=1, ceil_mode=False)\n",
            "  (conv2): Conv2d(6, 16, kernel_size=(5, 5), stride=(1, 1))\n",
            "  (fc1): Linear(in_features=400, out_features=10, bias=True)\n",
            ")\n"
          ],
          "name": "stdout"
        }
      ]
    },
    {
      "cell_type": "markdown",
      "metadata": {
        "id": "vRlnt3zRSOLc"
      },
      "source": [
        "### 3(B) Two Dense Layers. (Note: The last Dense layer should have 10 nodes as there are 10 classes. For the Dense layer before that, use 64 nodes.)"
      ],
      "id": "vRlnt3zRSOLc"
    },
    {
      "cell_type": "code",
      "metadata": {
        "id": "1Vu-OMbXSOLd"
      },
      "source": [
        "class ConvNet_2(nn.Module):\n",
        "    def __init__(self):\n",
        "        super(ConvNet_2, self).__init__()\n",
        "        self.conv1 = nn.Conv2d(3, 6, 5)  #in_channels, out_channels(no of filters), kernel_size\n",
        "        self.pool = nn.MaxPool2d(2, 2)\n",
        "        self.conv2 = nn.Conv2d(6, 16, 5)\n",
        "        self.fc1 = nn.Linear(16 * 5 * 5,64)\n",
        "        self.fc2 = nn.Linear(64, 10)\n",
        "\n",
        "    def forward(self, x):\n",
        "        # -> n, 3, 32, 32\n",
        "        x = self.pool(F.relu(self.conv1(x)))  # -> n, 6, 14, 14\n",
        "        x = self.pool(F.relu(self.conv2(x)))  # -> n, 16, 5, 5\n",
        "        x = x.view(-1, 16 * 5 * 5)  # -> n, 400\n",
        "        x = F.relu(self.fc1(x))  # -> n, 120\n",
        "        x = self.fc2(x)  # -> n, 10\n",
        "        return x\n"
      ],
      "id": "1Vu-OMbXSOLd",
      "execution_count": null,
      "outputs": []
    },
    {
      "cell_type": "code",
      "metadata": {
        "id": "sGqXoExdSOLd",
        "outputId": "4a06c1d4-0816-4d79-a1f0-9beb75caf1c2"
      },
      "source": [
        "model2= ConvNet_2().to(Configurations[\"device\"])\n",
        "num_epochs = 20\n",
        "learning_rate = 0.001\n",
        "model2,Accuracy2,ep2 =model_train(model2,learning_rate,num_epochs)"
      ],
      "id": "sGqXoExdSOLd",
      "execution_count": null,
      "outputs": [
        {
          "output_type": "stream",
          "text": [
            "Epoch [1/20], Step [2000/12500], Loss: 2.2878\n",
            "Epoch [1/20], Step [4000/12500], Loss: 2.3712\n",
            "Epoch [1/20], Step [6000/12500], Loss: 2.6233\n",
            "Epoch [1/20], Step [8000/12500], Loss: 2.4352\n",
            "Epoch [1/20], Step [10000/12500], Loss: 2.0255\n",
            "Epoch [1/20], Step [12000/12500], Loss: 1.2380\n",
            "Training Accuracy -  31.966\n",
            "Epoch [2/20], Step [2000/12500], Loss: 1.5384\n",
            "Epoch [2/20], Step [4000/12500], Loss: 1.6742\n",
            "Epoch [2/20], Step [6000/12500], Loss: 0.9370\n",
            "Epoch [2/20], Step [8000/12500], Loss: 0.9344\n",
            "Epoch [2/20], Step [10000/12500], Loss: 1.9180\n",
            "Epoch [2/20], Step [12000/12500], Loss: 1.3689\n",
            "Training Accuracy -  41.606\n",
            "Epoch [3/20], Step [2000/12500], Loss: 2.3333\n",
            "Epoch [3/20], Step [4000/12500], Loss: 1.5725\n",
            "Epoch [3/20], Step [6000/12500], Loss: 1.4575\n",
            "Epoch [3/20], Step [8000/12500], Loss: 1.5734\n",
            "Epoch [3/20], Step [10000/12500], Loss: 1.1567\n",
            "Epoch [3/20], Step [12000/12500], Loss: 0.8516\n",
            "Training Accuracy -  47.54\n",
            "Epoch [4/20], Step [2000/12500], Loss: 1.5811\n",
            "Epoch [4/20], Step [4000/12500], Loss: 2.3906\n",
            "Epoch [4/20], Step [6000/12500], Loss: 2.0384\n",
            "Epoch [4/20], Step [8000/12500], Loss: 2.2078\n",
            "Epoch [4/20], Step [10000/12500], Loss: 0.4841\n",
            "Epoch [4/20], Step [12000/12500], Loss: 0.9120\n",
            "Training Accuracy -  49.8\n",
            "Epoch [5/20], Step [2000/12500], Loss: 1.6646\n",
            "Epoch [5/20], Step [4000/12500], Loss: 1.3501\n",
            "Epoch [5/20], Step [6000/12500], Loss: 0.9822\n",
            "Epoch [5/20], Step [8000/12500], Loss: 1.2915\n",
            "Epoch [5/20], Step [10000/12500], Loss: 0.7374\n",
            "Epoch [5/20], Step [12000/12500], Loss: 0.7788\n",
            "Training Accuracy -  51.872\n",
            "Epoch [6/20], Step [2000/12500], Loss: 1.1608\n",
            "Epoch [6/20], Step [4000/12500], Loss: 1.0699\n",
            "Epoch [6/20], Step [6000/12500], Loss: 0.9018\n",
            "Epoch [6/20], Step [8000/12500], Loss: 1.9768\n",
            "Epoch [6/20], Step [10000/12500], Loss: 0.8719\n",
            "Epoch [6/20], Step [12000/12500], Loss: 0.7897\n",
            "Training Accuracy -  54.616\n",
            "Epoch [7/20], Step [2000/12500], Loss: 1.1044\n",
            "Epoch [7/20], Step [4000/12500], Loss: 0.8129\n",
            "Epoch [7/20], Step [6000/12500], Loss: 0.9425\n",
            "Epoch [7/20], Step [8000/12500], Loss: 0.8208\n",
            "Epoch [7/20], Step [10000/12500], Loss: 1.0279\n",
            "Epoch [7/20], Step [12000/12500], Loss: 1.0645\n",
            "Training Accuracy -  55.862\n",
            "Epoch [8/20], Step [2000/12500], Loss: 0.7938\n",
            "Epoch [8/20], Step [4000/12500], Loss: 0.8295\n",
            "Epoch [8/20], Step [6000/12500], Loss: 1.1049\n",
            "Epoch [8/20], Step [8000/12500], Loss: 0.5139\n",
            "Epoch [8/20], Step [10000/12500], Loss: 1.0739\n",
            "Epoch [8/20], Step [12000/12500], Loss: 0.6904\n",
            "Training Accuracy -  57.116\n",
            "Epoch [9/20], Step [2000/12500], Loss: 1.8566\n",
            "Epoch [9/20], Step [4000/12500], Loss: 1.0539\n",
            "Epoch [9/20], Step [6000/12500], Loss: 1.7403\n",
            "Epoch [9/20], Step [8000/12500], Loss: 1.2443\n",
            "Epoch [9/20], Step [10000/12500], Loss: 0.6263\n",
            "Epoch [9/20], Step [12000/12500], Loss: 1.3073\n",
            "Training Accuracy -  59.548\n",
            "Epoch [10/20], Step [2000/12500], Loss: 1.2990\n",
            "Epoch [10/20], Step [4000/12500], Loss: 1.8342\n",
            "Epoch [10/20], Step [6000/12500], Loss: 0.8853\n",
            "Epoch [10/20], Step [8000/12500], Loss: 1.5197\n",
            "Epoch [10/20], Step [10000/12500], Loss: 0.4611\n",
            "Epoch [10/20], Step [12000/12500], Loss: 0.9062\n",
            "Training Accuracy -  60.74\n",
            "Epoch [11/20], Step [2000/12500], Loss: 0.7022\n",
            "Epoch [11/20], Step [4000/12500], Loss: 0.7020\n",
            "Epoch [11/20], Step [6000/12500], Loss: 1.0781\n",
            "Epoch [11/20], Step [8000/12500], Loss: 1.5457\n",
            "Epoch [11/20], Step [10000/12500], Loss: 0.8015\n",
            "Epoch [11/20], Step [12000/12500], Loss: 0.6994\n",
            "Training Accuracy -  60.52\n",
            "Epoch [12/20], Step [2000/12500], Loss: 1.2254\n",
            "Epoch [12/20], Step [4000/12500], Loss: 1.0226\n",
            "Epoch [12/20], Step [6000/12500], Loss: 0.8109\n",
            "Epoch [12/20], Step [8000/12500], Loss: 0.7007\n",
            "Epoch [12/20], Step [10000/12500], Loss: 1.1126\n",
            "Epoch [12/20], Step [12000/12500], Loss: 1.5207\n",
            "Training Accuracy -  62.426\n",
            "Epoch [13/20], Step [2000/12500], Loss: 1.3379\n",
            "Epoch [13/20], Step [4000/12500], Loss: 1.0303\n",
            "Epoch [13/20], Step [6000/12500], Loss: 1.0132\n",
            "Epoch [13/20], Step [8000/12500], Loss: 0.9815\n",
            "Epoch [13/20], Step [10000/12500], Loss: 1.1076\n",
            "Epoch [13/20], Step [12000/12500], Loss: 0.8270\n",
            "Training Accuracy -  62.464\n",
            "Epoch [14/20], Step [2000/12500], Loss: 0.9925\n",
            "Epoch [14/20], Step [4000/12500], Loss: 0.4015\n",
            "Epoch [14/20], Step [6000/12500], Loss: 1.1440\n",
            "Epoch [14/20], Step [8000/12500], Loss: 0.7183\n",
            "Epoch [14/20], Step [10000/12500], Loss: 1.2311\n",
            "Epoch [14/20], Step [12000/12500], Loss: 1.3665\n",
            "Training Accuracy -  64.316\n",
            "Epoch [15/20], Step [2000/12500], Loss: 2.7611\n",
            "Epoch [15/20], Step [4000/12500], Loss: 0.7483\n",
            "Epoch [15/20], Step [6000/12500], Loss: 0.7306\n",
            "Epoch [15/20], Step [8000/12500], Loss: 1.0100\n",
            "Epoch [15/20], Step [10000/12500], Loss: 0.9654\n",
            "Epoch [15/20], Step [12000/12500], Loss: 0.9501\n",
            "Training Accuracy -  63.66\n",
            "Epoch [16/20], Step [2000/12500], Loss: 0.7670\n",
            "Epoch [16/20], Step [4000/12500], Loss: 0.4127\n",
            "Epoch [16/20], Step [6000/12500], Loss: 1.0685\n",
            "Epoch [16/20], Step [8000/12500], Loss: 0.5140\n",
            "Epoch [16/20], Step [10000/12500], Loss: 1.1599\n",
            "Epoch [16/20], Step [12000/12500], Loss: 1.1363\n",
            "Training Accuracy -  65.664\n",
            "Epoch [17/20], Step [2000/12500], Loss: 0.7241\n",
            "Epoch [17/20], Step [4000/12500], Loss: 1.0996\n",
            "Epoch [17/20], Step [6000/12500], Loss: 0.7057\n",
            "Epoch [17/20], Step [8000/12500], Loss: 0.8249\n",
            "Epoch [17/20], Step [10000/12500], Loss: 1.0977\n",
            "Epoch [17/20], Step [12000/12500], Loss: 0.1679\n",
            "Training Accuracy -  65.29\n",
            "Epoch [18/20], Step [2000/12500], Loss: 0.7671\n",
            "Epoch [18/20], Step [4000/12500], Loss: 0.9114\n",
            "Epoch [18/20], Step [6000/12500], Loss: 1.6446\n",
            "Epoch [18/20], Step [8000/12500], Loss: 0.9110\n",
            "Epoch [18/20], Step [10000/12500], Loss: 1.1469\n",
            "Epoch [18/20], Step [12000/12500], Loss: 1.8854\n",
            "Training Accuracy -  67.056\n",
            "Epoch [19/20], Step [2000/12500], Loss: 0.5591\n",
            "Epoch [19/20], Step [4000/12500], Loss: 1.8282\n",
            "Epoch [19/20], Step [6000/12500], Loss: 0.3459\n",
            "Epoch [19/20], Step [8000/12500], Loss: 1.2974\n",
            "Epoch [19/20], Step [10000/12500], Loss: 1.3232\n",
            "Epoch [19/20], Step [12000/12500], Loss: 0.6515\n",
            "Training Accuracy -  66.96\n",
            "Epoch [20/20], Step [2000/12500], Loss: 0.5987\n",
            "Epoch [20/20], Step [4000/12500], Loss: 1.1011\n",
            "Epoch [20/20], Step [6000/12500], Loss: 0.3395\n",
            "Epoch [20/20], Step [8000/12500], Loss: 0.6248\n",
            "Epoch [20/20], Step [10000/12500], Loss: 1.5605\n",
            "Epoch [20/20], Step [12000/12500], Loss: 0.2388\n",
            "Training Accuracy -  67.82\n",
            "Finished Training\n"
          ],
          "name": "stdout"
        }
      ]
    },
    {
      "cell_type": "markdown",
      "metadata": {
        "id": "OjIGIzMQSOLd"
      },
      "source": [
        "#### Save the best model and show accuracy on test data"
      ],
      "id": "OjIGIzMQSOLd"
    },
    {
      "cell_type": "code",
      "metadata": {
        "id": "sEPrMNplSOLd",
        "outputId": "f111b7ed-e734-44d7-8126-cdaeb006b3f5"
      },
      "source": [
        "model2_acc=result_prediction(model2)\n",
        "PATH = './model_conv_2.pth'\n",
        "torch.save(model2.state_dict(), PATH)"
      ],
      "id": "sEPrMNplSOLd",
      "execution_count": null,
      "outputs": [
        {
          "output_type": "stream",
          "text": [
            "Accuracy of the network: 62.25 %\n",
            "Accuracy of plane: 59.8 %\n",
            "Accuracy of car: 76.2 %\n",
            "Accuracy of bird: 51.1 %\n",
            "Accuracy of cat: 49.4 %\n",
            "Accuracy of deer: 57.0 %\n",
            "Accuracy of dog: 44.8 %\n",
            "Accuracy of frog: 68.0 %\n",
            "Accuracy of horse: 67.1 %\n",
            "Accuracy of ship: 85.2 %\n",
            "Accuracy of truck: 63.9 %\n"
          ],
          "name": "stdout"
        }
      ]
    },
    {
      "cell_type": "markdown",
      "metadata": {
        "id": "d7yaZx4KSOLe"
      },
      "source": [
        "#### plot the accuracy vs epoch"
      ],
      "id": "d7yaZx4KSOLe"
    },
    {
      "cell_type": "code",
      "metadata": {
        "id": "AfcRlHpVSOLe",
        "outputId": "44d36716-2388-4011-f20d-27351a8674ac"
      },
      "source": [
        "import matplotlib.pyplot as plt\n",
        "plt.scatter(ep2,Accuracy2)\n",
        "plt.plot(ep2,Accuracy2)\n",
        "plt.xlabel('number of epoch')\n",
        "plt.ylabel('Accuracy')"
      ],
      "id": "AfcRlHpVSOLe",
      "execution_count": null,
      "outputs": [
        {
          "output_type": "execute_result",
          "data": {
            "text/plain": [
              "Text(0, 0.5, 'Accuracy')"
            ]
          },
          "metadata": {
            "tags": []
          },
          "execution_count": 20
        },
        {
          "output_type": "display_data",
          "data": {
            "image/png": "[encoded data removed]",
            "text/plain": [
              "<Figure size 432x288 with 1 Axes>"
            ]
          },
          "metadata": {
            "tags": [],
            "needs_background": "light"
          }
        }
      ]
    },
    {
      "cell_type": "markdown",
      "metadata": {
        "id": "WUFrUNe1SOLe"
      },
      "source": [
        "#### Show the model architecture using model"
      ],
      "id": "WUFrUNe1SOLe"
    },
    {
      "cell_type": "code",
      "metadata": {
        "id": "6VgTr0a5SOLe",
        "outputId": "11ef5c31-8ddd-4fb7-8ec2-14e4e2571c26"
      },
      "source": [
        "print(model2)"
      ],
      "id": "6VgTr0a5SOLe",
      "execution_count": null,
      "outputs": [
        {
          "output_type": "stream",
          "text": [
            "ConvNet_2(\n",
            "  (conv1): Conv2d(3, 6, kernel_size=(5, 5), stride=(1, 1))\n",
            "  (pool): MaxPool2d(kernel_size=2, stride=2, padding=0, dilation=1, ceil_mode=False)\n",
            "  (conv2): Conv2d(6, 16, kernel_size=(5, 5), stride=(1, 1))\n",
            "  (fc1): Linear(in_features=400, out_features=64, bias=True)\n",
            "  (fc2): Linear(in_features=64, out_features=10, bias=True)\n",
            ")\n"
          ],
          "name": "stdout"
        }
      ]
    },
    {
      "cell_type": "markdown",
      "metadata": {
        "id": "RnW85I3ASOLe"
      },
      "source": [
        "### 3(C) 2 blocks of Conv2D -> BatchNorm2D->MaxPooling2D"
      ],
      "id": "RnW85I3ASOLe"
    },
    {
      "cell_type": "code",
      "metadata": {
        "id": "EVjkY5KOSOLf"
      },
      "source": [
        "class ConvNet_3(nn.Module):\n",
        "    def __init__(self):\n",
        "        super(ConvNet_3, self).__init__()\n",
        "        self.conv1 = nn.Conv2d(3, 6, 5)  #in_channels, out_channels(no of filters), kernel_size\n",
        "        self.batch1=nn.BatchNorm2d(6)\n",
        "        self.pool = nn.MaxPool2d(2, 2)\n",
        "        self.conv2 = nn.Conv2d(6, 16, 5)\n",
        "        self.batch2=nn.BatchNorm2d(16)\n",
        "        self.fc1 = nn.Linear(16 * 5 * 5,10)\n",
        "\n",
        "    def forward(self, x):\n",
        "        # -> n, 3, 32, 32\n",
        "        x = self.batch1(self.pool(F.relu(self.conv1(x))))  # -> n, 6, 14, 14\n",
        "        x = self.batch2(self.pool(F.relu(self.conv2(x))))  # -> n, 16, 5, 5\n",
        "        x = x.view(-1, 16 * 5 * 5)  # -> n, 400\n",
        "        x = self.fc1(x) \n",
        "        return x"
      ],
      "id": "EVjkY5KOSOLf",
      "execution_count": null,
      "outputs": []
    },
    {
      "cell_type": "code",
      "metadata": {
        "id": "K-kw0ZsBSOLf",
        "outputId": "e216f21b-36b5-46c1-def1-176c3674f643"
      },
      "source": [
        "model3= ConvNet_3().to(Configurations[\"device\"])\n",
        "num_epochs = 20\n",
        "learning_rate = 0.001\n",
        "model3,Accuracy3,ep3 =model_train(model3,learning_rate,num_epochs)"
      ],
      "id": "K-kw0ZsBSOLf",
      "execution_count": null,
      "outputs": [
        {
          "output_type": "stream",
          "text": [
            "Epoch [1/20], Step [2000/12500], Loss: 2.3015\n",
            "Epoch [1/20], Step [4000/12500], Loss: 0.9027\n",
            "Epoch [1/20], Step [6000/12500], Loss: 1.2152\n",
            "Epoch [1/20], Step [8000/12500], Loss: 1.7988\n",
            "Epoch [1/20], Step [10000/12500], Loss: 2.1620\n",
            "Epoch [1/20], Step [12000/12500], Loss: 0.6831\n",
            "Training Accuracy -  49.502\n",
            "Epoch [2/20], Step [2000/12500], Loss: 1.8857\n",
            "Epoch [2/20], Step [4000/12500], Loss: 1.3752\n",
            "Epoch [2/20], Step [6000/12500], Loss: 1.2616\n",
            "Epoch [2/20], Step [8000/12500], Loss: 0.6323\n",
            "Epoch [2/20], Step [10000/12500], Loss: 2.6077\n",
            "Epoch [2/20], Step [12000/12500], Loss: 0.9265\n",
            "Training Accuracy -  52.672\n",
            "Epoch [3/20], Step [2000/12500], Loss: 1.2943\n",
            "Epoch [3/20], Step [4000/12500], Loss: 0.9794\n",
            "Epoch [3/20], Step [6000/12500], Loss: 0.5742\n",
            "Epoch [3/20], Step [8000/12500], Loss: 1.6425\n",
            "Epoch [3/20], Step [10000/12500], Loss: 1.2821\n",
            "Epoch [3/20], Step [12000/12500], Loss: 2.0891\n",
            "Training Accuracy -  57.068\n",
            "Epoch [4/20], Step [2000/12500], Loss: 1.7138\n",
            "Epoch [4/20], Step [4000/12500], Loss: 0.5716\n",
            "Epoch [4/20], Step [6000/12500], Loss: 1.1545\n",
            "Epoch [4/20], Step [8000/12500], Loss: 1.9513\n",
            "Epoch [4/20], Step [10000/12500], Loss: 1.4794\n",
            "Epoch [4/20], Step [12000/12500], Loss: 0.9423\n",
            "Training Accuracy -  58.094\n",
            "Epoch [5/20], Step [2000/12500], Loss: 0.3170\n",
            "Epoch [5/20], Step [4000/12500], Loss: 1.2763\n",
            "Epoch [5/20], Step [6000/12500], Loss: 0.7683\n",
            "Epoch [5/20], Step [8000/12500], Loss: 0.7645\n",
            "Epoch [5/20], Step [10000/12500], Loss: 1.1859\n",
            "Epoch [5/20], Step [12000/12500], Loss: 0.8703\n",
            "Training Accuracy -  59.124\n",
            "Epoch [6/20], Step [2000/12500], Loss: 1.3818\n",
            "Epoch [6/20], Step [4000/12500], Loss: 1.2371\n",
            "Epoch [6/20], Step [6000/12500], Loss: 2.3107\n",
            "Epoch [6/20], Step [8000/12500], Loss: 0.6957\n",
            "Epoch [6/20], Step [10000/12500], Loss: 1.6790\n",
            "Epoch [6/20], Step [12000/12500], Loss: 0.7713\n",
            "Training Accuracy -  60.204\n",
            "Epoch [7/20], Step [2000/12500], Loss: 0.8886\n",
            "Epoch [7/20], Step [4000/12500], Loss: 0.3229\n",
            "Epoch [7/20], Step [6000/12500], Loss: 0.7409\n",
            "Epoch [7/20], Step [8000/12500], Loss: 0.9729\n",
            "Epoch [7/20], Step [10000/12500], Loss: 0.6344\n",
            "Epoch [7/20], Step [12000/12500], Loss: 2.3986\n",
            "Training Accuracy -  60.716\n",
            "Epoch [8/20], Step [2000/12500], Loss: 0.5129\n",
            "Epoch [8/20], Step [4000/12500], Loss: 1.5283\n",
            "Epoch [8/20], Step [6000/12500], Loss: 0.5759\n",
            "Epoch [8/20], Step [8000/12500], Loss: 0.7996\n",
            "Epoch [8/20], Step [10000/12500], Loss: 1.5767\n",
            "Epoch [8/20], Step [12000/12500], Loss: 1.7425\n",
            "Training Accuracy -  61.612\n",
            "Epoch [9/20], Step [2000/12500], Loss: 1.7444\n",
            "Epoch [9/20], Step [4000/12500], Loss: 0.8533\n",
            "Epoch [9/20], Step [6000/12500], Loss: 1.7802\n",
            "Epoch [9/20], Step [8000/12500], Loss: 0.5770\n",
            "Epoch [9/20], Step [10000/12500], Loss: 1.1056\n",
            "Epoch [9/20], Step [12000/12500], Loss: 1.4817\n",
            "Training Accuracy -  61.678\n",
            "Epoch [10/20], Step [2000/12500], Loss: 1.6200\n",
            "Epoch [10/20], Step [4000/12500], Loss: 1.9172\n",
            "Epoch [10/20], Step [6000/12500], Loss: 0.5487\n",
            "Epoch [10/20], Step [8000/12500], Loss: 0.3477\n",
            "Epoch [10/20], Step [10000/12500], Loss: 0.5518\n",
            "Epoch [10/20], Step [12000/12500], Loss: 2.1555\n",
            "Training Accuracy -  62.032\n",
            "Epoch [11/20], Step [2000/12500], Loss: 0.5311\n",
            "Epoch [11/20], Step [4000/12500], Loss: 0.5093\n",
            "Epoch [11/20], Step [6000/12500], Loss: 1.6155\n",
            "Epoch [11/20], Step [8000/12500], Loss: 0.4957\n",
            "Epoch [11/20], Step [10000/12500], Loss: 0.8723\n",
            "Epoch [11/20], Step [12000/12500], Loss: 0.4628\n",
            "Training Accuracy -  61.692\n",
            "Epoch [12/20], Step [2000/12500], Loss: 1.8116\n",
            "Epoch [12/20], Step [4000/12500], Loss: 0.7914\n",
            "Epoch [12/20], Step [6000/12500], Loss: 1.1776\n",
            "Epoch [12/20], Step [8000/12500], Loss: 0.8301\n",
            "Epoch [12/20], Step [10000/12500], Loss: 0.8267\n",
            "Epoch [12/20], Step [12000/12500], Loss: 2.1156\n",
            "Training Accuracy -  62.61\n",
            "Epoch [13/20], Step [2000/12500], Loss: 1.2332\n",
            "Epoch [13/20], Step [4000/12500], Loss: 0.5086\n",
            "Epoch [13/20], Step [6000/12500], Loss: 0.6009\n",
            "Epoch [13/20], Step [8000/12500], Loss: 0.8278\n",
            "Epoch [13/20], Step [10000/12500], Loss: 0.7638\n",
            "Epoch [13/20], Step [12000/12500], Loss: 2.3183\n",
            "Training Accuracy -  62.056\n",
            "Epoch [14/20], Step [2000/12500], Loss: 1.2303\n",
            "Epoch [14/20], Step [4000/12500], Loss: 0.4035\n",
            "Epoch [14/20], Step [6000/12500], Loss: 1.0740\n",
            "Epoch [14/20], Step [8000/12500], Loss: 1.1217\n",
            "Epoch [14/20], Step [10000/12500], Loss: 0.9148\n",
            "Epoch [14/20], Step [12000/12500], Loss: 2.3307\n",
            "Training Accuracy -  61.706\n",
            "Epoch [15/20], Step [2000/12500], Loss: 0.8770\n",
            "Epoch [15/20], Step [4000/12500], Loss: 0.6795\n",
            "Epoch [15/20], Step [6000/12500], Loss: 1.1088\n",
            "Epoch [15/20], Step [8000/12500], Loss: 2.9519\n",
            "Epoch [15/20], Step [10000/12500], Loss: 0.8407\n",
            "Epoch [15/20], Step [12000/12500], Loss: 1.5657\n",
            "Training Accuracy -  63.122\n",
            "Epoch [16/20], Step [2000/12500], Loss: 0.7548\n",
            "Epoch [16/20], Step [4000/12500], Loss: 0.9299\n",
            "Epoch [16/20], Step [6000/12500], Loss: 1.4501\n",
            "Epoch [16/20], Step [8000/12500], Loss: 0.7006\n",
            "Epoch [16/20], Step [10000/12500], Loss: 0.8566\n",
            "Epoch [16/20], Step [12000/12500], Loss: 1.5870\n",
            "Training Accuracy -  63.342\n",
            "Epoch [17/20], Step [2000/12500], Loss: 1.1211\n",
            "Epoch [17/20], Step [4000/12500], Loss: 0.8427\n",
            "Epoch [17/20], Step [6000/12500], Loss: 1.3254\n",
            "Epoch [17/20], Step [8000/12500], Loss: 2.4863\n",
            "Epoch [17/20], Step [10000/12500], Loss: 1.2568\n",
            "Epoch [17/20], Step [12000/12500], Loss: 0.7845\n",
            "Training Accuracy -  63.484\n",
            "Epoch [18/20], Step [2000/12500], Loss: 1.1552\n",
            "Epoch [18/20], Step [4000/12500], Loss: 0.8951\n",
            "Epoch [18/20], Step [6000/12500], Loss: 1.4227\n",
            "Epoch [18/20], Step [8000/12500], Loss: 0.8379\n",
            "Epoch [18/20], Step [10000/12500], Loss: 1.8771\n",
            "Epoch [18/20], Step [12000/12500], Loss: 2.0444\n",
            "Training Accuracy -  63.708\n",
            "Epoch [19/20], Step [2000/12500], Loss: 0.9059\n",
            "Epoch [19/20], Step [4000/12500], Loss: 1.5127\n",
            "Epoch [19/20], Step [6000/12500], Loss: 0.4978\n",
            "Epoch [19/20], Step [8000/12500], Loss: 1.0679\n",
            "Epoch [19/20], Step [10000/12500], Loss: 1.8987\n",
            "Epoch [19/20], Step [12000/12500], Loss: 0.8813\n",
            "Training Accuracy -  63.848\n",
            "Epoch [20/20], Step [2000/12500], Loss: 0.7664\n",
            "Epoch [20/20], Step [4000/12500], Loss: 1.2337\n",
            "Epoch [20/20], Step [6000/12500], Loss: 0.2118\n",
            "Epoch [20/20], Step [8000/12500], Loss: 1.4200\n",
            "Epoch [20/20], Step [10000/12500], Loss: 2.4332\n",
            "Epoch [20/20], Step [12000/12500], Loss: 0.7950\n",
            "Training Accuracy -  63.652\n",
            "Finished Training\n"
          ],
          "name": "stdout"
        }
      ]
    },
    {
      "cell_type": "markdown",
      "metadata": {
        "id": "FWuopV6eSOLf"
      },
      "source": [
        "#### Save the best model and show accuracy on test data"
      ],
      "id": "FWuopV6eSOLf"
    },
    {
      "cell_type": "code",
      "metadata": {
        "id": "WsOPibNfSOLf",
        "outputId": "2943a462-51cb-4d65-cac1-f209ad6a7689"
      },
      "source": [
        "model3_acc=result_prediction(model3)\n",
        "PATH = './model_conv_3.pth'\n",
        "torch.save(model3.state_dict(), PATH)"
      ],
      "id": "WsOPibNfSOLf",
      "execution_count": null,
      "outputs": [
        {
          "output_type": "stream",
          "text": [
            "Accuracy of the network: 59.59 %\n",
            "Accuracy of plane: 62.7 %\n",
            "Accuracy of car: 73.2 %\n",
            "Accuracy of bird: 47.2 %\n",
            "Accuracy of cat: 35.6 %\n",
            "Accuracy of deer: 50.7 %\n",
            "Accuracy of dog: 50.8 %\n",
            "Accuracy of frog: 69.6 %\n",
            "Accuracy of horse: 64.7 %\n",
            "Accuracy of ship: 70.8 %\n",
            "Accuracy of truck: 70.6 %\n"
          ],
          "name": "stdout"
        }
      ]
    },
    {
      "cell_type": "markdown",
      "metadata": {
        "id": "tvk-FUsISOLf"
      },
      "source": [
        "#### plot the accuracy vs epoch"
      ],
      "id": "tvk-FUsISOLf"
    },
    {
      "cell_type": "code",
      "metadata": {
        "id": "uaf6DPY4SOLg",
        "outputId": "f782f373-9c1f-420a-88ba-e7fe0b780798"
      },
      "source": [
        "plt.scatter(ep3,Accuracy3)\n",
        "plt.plot(ep3,Accuracy3)\n",
        "plt.xlabel('number of epoch')\n",
        "plt.ylabel('Accuracy')"
      ],
      "id": "uaf6DPY4SOLg",
      "execution_count": null,
      "outputs": [
        {
          "output_type": "execute_result",
          "data": {
            "text/plain": [
              "Text(0, 0.5, 'Accuracy')"
            ]
          },
          "metadata": {
            "tags": []
          },
          "execution_count": 26
        },
        {
          "output_type": "display_data",
          "data": {
            "image/png": "[encoded data removed]",
            "text/plain": [
              "<Figure size 432x288 with 1 Axes>"
            ]
          },
          "metadata": {
            "tags": [],
            "needs_background": "light"
          }
        }
      ]
    },
    {
      "cell_type": "markdown",
      "metadata": {
        "id": "FkNWtG3iSOLg"
      },
      "source": [
        "#### Show the model architecture using model"
      ],
      "id": "FkNWtG3iSOLg"
    },
    {
      "cell_type": "code",
      "metadata": {
        "id": "IqiSpzROSOLg",
        "outputId": "cbc4fa9b-33de-4e9b-d9fe-ec07daa1ebe9"
      },
      "source": [
        "print(model3)"
      ],
      "id": "IqiSpzROSOLg",
      "execution_count": null,
      "outputs": [
        {
          "output_type": "stream",
          "text": [
            "ConvNet_3(\n",
            "  (conv1): Conv2d(3, 6, kernel_size=(5, 5), stride=(1, 1))\n",
            "  (batch1): BatchNorm2d(6, eps=1e-05, momentum=0.1, affine=True, track_running_stats=True)\n",
            "  (pool): MaxPool2d(kernel_size=2, stride=2, padding=0, dilation=1, ceil_mode=False)\n",
            "  (conv2): Conv2d(6, 16, kernel_size=(5, 5), stride=(1, 1))\n",
            "  (batch2): BatchNorm2d(16, eps=1e-05, momentum=0.1, affine=True, track_running_stats=True)\n",
            "  (fc1): Linear(in_features=400, out_features=10, bias=True)\n",
            ")\n"
          ],
          "name": "stdout"
        }
      ]
    },
    {
      "cell_type": "markdown",
      "metadata": {
        "id": "J0PX5CWPSOLg"
      },
      "source": [
        "## 3(D) 3 blocks of Conv2D -> BatchNorm2D->MaxPooling2D"
      ],
      "id": "J0PX5CWPSOLg"
    },
    {
      "cell_type": "code",
      "metadata": {
        "id": "e5LsGtZKSOLg"
      },
      "source": [
        "class ConvNet_4(nn.Module):\n",
        "    def __init__(self):\n",
        "        super(ConvNet_4, self).__init__()\n",
        "        self.conv1 = nn.Conv2d(3, 6, 2)  #in_channels, out_channels(no of filters), kernel_size\n",
        "        self.batch1=nn.BatchNorm2d(6)\n",
        "        self.pool = nn.MaxPool2d(2, 2)\n",
        "        self.conv2 = nn.Conv2d(6, 16, 2)\n",
        "        self.batch2=nn.BatchNorm2d(16)\n",
        "        self.conv3 = nn.Conv2d(16, 32, 2)\n",
        "        self.batch3=nn.BatchNorm2d(32)\n",
        "        self.fc1 = nn.Linear(32 * 3 * 3,10)\n",
        "        \n",
        "\n",
        "    def forward(self, x):\n",
        "        # -> n, 3, 32, 32\n",
        "        x = self.batch1(self.pool(F.relu(self.conv1(x))))  \n",
        "        x = self.batch2(self.pool(F.relu(self.conv2(x))))  \n",
        "        x = self.batch3(self.pool(F.relu(self.conv3(x))))\n",
        "        x = x.view(-1, 32 * 3 * 3)  \n",
        "        x = self.fc1(x) \n",
        "        return x"
      ],
      "id": "e5LsGtZKSOLg",
      "execution_count": null,
      "outputs": []
    },
    {
      "cell_type": "code",
      "metadata": {
        "id": "gOM0SCa1SOLh",
        "outputId": "8c6e1f0a-cf78-4b4c-c411-d7032fff9804"
      },
      "source": [
        "model4= ConvNet_4().to(Configurations[\"device\"])\n",
        "num_epochs = 20\n",
        "learning_rate = 0.001\n",
        "model4,Accuracy4,ep4 =model_train(model4,learning_rate,num_epochs)"
      ],
      "id": "gOM0SCa1SOLh",
      "execution_count": null,
      "outputs": [
        {
          "output_type": "stream",
          "text": [
            "Epoch [1/20], Step [2000/12500], Loss: 1.4405\n",
            "Epoch [1/20], Step [4000/12500], Loss: 1.8403\n",
            "Epoch [1/20], Step [6000/12500], Loss: 1.5712\n",
            "Epoch [1/20], Step [8000/12500], Loss: 1.8893\n",
            "Epoch [1/20], Step [10000/12500], Loss: 1.8282\n",
            "Epoch [1/20], Step [12000/12500], Loss: 2.1381\n",
            "Training Accuracy -  50.804\n",
            "Epoch [2/20], Step [2000/12500], Loss: 0.8552\n",
            "Epoch [2/20], Step [4000/12500], Loss: 2.2469\n",
            "Epoch [2/20], Step [6000/12500], Loss: 1.8417\n",
            "Epoch [2/20], Step [8000/12500], Loss: 1.0358\n",
            "Epoch [2/20], Step [10000/12500], Loss: 0.9259\n",
            "Epoch [2/20], Step [12000/12500], Loss: 1.2806\n",
            "Training Accuracy -  55.598\n",
            "Epoch [3/20], Step [2000/12500], Loss: 0.9889\n",
            "Epoch [3/20], Step [4000/12500], Loss: 0.5969\n",
            "Epoch [3/20], Step [6000/12500], Loss: 0.9235\n",
            "Epoch [3/20], Step [8000/12500], Loss: 1.2528\n",
            "Epoch [3/20], Step [10000/12500], Loss: 1.1508\n",
            "Epoch [3/20], Step [12000/12500], Loss: 1.1876\n",
            "Training Accuracy -  57.346\n",
            "Epoch [4/20], Step [2000/12500], Loss: 1.9540\n",
            "Epoch [4/20], Step [4000/12500], Loss: 1.1891\n",
            "Epoch [4/20], Step [6000/12500], Loss: 1.7685\n",
            "Epoch [4/20], Step [8000/12500], Loss: 1.5239\n",
            "Epoch [4/20], Step [10000/12500], Loss: 2.2183\n",
            "Epoch [4/20], Step [12000/12500], Loss: 0.8346\n",
            "Training Accuracy -  59.226\n",
            "Epoch [5/20], Step [2000/12500], Loss: 0.5080\n",
            "Epoch [5/20], Step [4000/12500], Loss: 1.1741\n",
            "Epoch [5/20], Step [6000/12500], Loss: 2.5648\n",
            "Epoch [5/20], Step [8000/12500], Loss: 1.4110\n",
            "Epoch [5/20], Step [10000/12500], Loss: 0.8573\n",
            "Epoch [5/20], Step [12000/12500], Loss: 0.8317\n",
            "Training Accuracy -  60.764\n",
            "Epoch [6/20], Step [2000/12500], Loss: 0.6290\n",
            "Epoch [6/20], Step [4000/12500], Loss: 1.2013\n",
            "Epoch [6/20], Step [6000/12500], Loss: 2.3529\n",
            "Epoch [6/20], Step [8000/12500], Loss: 0.9615\n",
            "Epoch [6/20], Step [10000/12500], Loss: 1.0864\n",
            "Epoch [6/20], Step [12000/12500], Loss: 1.1871\n",
            "Training Accuracy -  61.208\n",
            "Epoch [7/20], Step [2000/12500], Loss: 1.1792\n",
            "Epoch [7/20], Step [4000/12500], Loss: 1.3708\n",
            "Epoch [7/20], Step [6000/12500], Loss: 1.6713\n",
            "Epoch [7/20], Step [8000/12500], Loss: 2.1504\n",
            "Epoch [7/20], Step [10000/12500], Loss: 0.6925\n",
            "Epoch [7/20], Step [12000/12500], Loss: 2.0582\n",
            "Training Accuracy -  61.936\n",
            "Epoch [8/20], Step [2000/12500], Loss: 1.4846\n",
            "Epoch [8/20], Step [4000/12500], Loss: 0.8182\n",
            "Epoch [8/20], Step [6000/12500], Loss: 0.5582\n",
            "Epoch [8/20], Step [8000/12500], Loss: 0.6052\n",
            "Epoch [8/20], Step [10000/12500], Loss: 1.1079\n",
            "Epoch [8/20], Step [12000/12500], Loss: 1.3556\n",
            "Training Accuracy -  61.534\n",
            "Epoch [9/20], Step [2000/12500], Loss: 0.9102\n",
            "Epoch [9/20], Step [4000/12500], Loss: 0.4740\n",
            "Epoch [9/20], Step [6000/12500], Loss: 1.2255\n",
            "Epoch [9/20], Step [8000/12500], Loss: 1.3101\n",
            "Epoch [9/20], Step [10000/12500], Loss: 1.4074\n",
            "Epoch [9/20], Step [12000/12500], Loss: 0.3293\n",
            "Training Accuracy -  62.442\n",
            "Epoch [10/20], Step [2000/12500], Loss: 1.1145\n",
            "Epoch [10/20], Step [4000/12500], Loss: 0.8259\n",
            "Epoch [10/20], Step [6000/12500], Loss: 0.6995\n",
            "Epoch [10/20], Step [8000/12500], Loss: 1.9856\n",
            "Epoch [10/20], Step [10000/12500], Loss: 1.0049\n",
            "Epoch [10/20], Step [12000/12500], Loss: 0.5740\n",
            "Training Accuracy -  63.046\n",
            "Epoch [11/20], Step [2000/12500], Loss: 1.9640\n",
            "Epoch [11/20], Step [4000/12500], Loss: 1.1214\n",
            "Epoch [11/20], Step [6000/12500], Loss: 0.4355\n",
            "Epoch [11/20], Step [8000/12500], Loss: 0.4054\n",
            "Epoch [11/20], Step [10000/12500], Loss: 1.9693\n",
            "Epoch [11/20], Step [12000/12500], Loss: 1.7777\n",
            "Training Accuracy -  63.116\n",
            "Epoch [12/20], Step [2000/12500], Loss: 0.8789\n",
            "Epoch [12/20], Step [4000/12500], Loss: 2.0691\n",
            "Epoch [12/20], Step [6000/12500], Loss: 0.5579\n",
            "Epoch [12/20], Step [8000/12500], Loss: 0.4475\n",
            "Epoch [12/20], Step [10000/12500], Loss: 0.7815\n",
            "Epoch [12/20], Step [12000/12500], Loss: 0.8001\n",
            "Training Accuracy -  63.814\n",
            "Epoch [13/20], Step [2000/12500], Loss: 0.6087\n",
            "Epoch [13/20], Step [4000/12500], Loss: 1.6997\n",
            "Epoch [13/20], Step [6000/12500], Loss: 0.8432\n",
            "Epoch [13/20], Step [8000/12500], Loss: 0.4437\n",
            "Epoch [13/20], Step [10000/12500], Loss: 1.2222\n",
            "Epoch [13/20], Step [12000/12500], Loss: 0.8758\n",
            "Training Accuracy -  63.814\n",
            "Epoch [14/20], Step [2000/12500], Loss: 0.5818\n",
            "Epoch [14/20], Step [4000/12500], Loss: 0.5240\n",
            "Epoch [14/20], Step [6000/12500], Loss: 1.4003\n",
            "Epoch [14/20], Step [8000/12500], Loss: 1.4885\n",
            "Epoch [14/20], Step [10000/12500], Loss: 2.2772\n",
            "Epoch [14/20], Step [12000/12500], Loss: 1.2266\n",
            "Training Accuracy -  63.926\n",
            "Epoch [15/20], Step [2000/12500], Loss: 2.2322\n",
            "Epoch [15/20], Step [4000/12500], Loss: 0.5458\n",
            "Epoch [15/20], Step [6000/12500], Loss: 0.6133\n",
            "Epoch [15/20], Step [8000/12500], Loss: 1.2761\n",
            "Epoch [15/20], Step [10000/12500], Loss: 1.3099\n",
            "Epoch [15/20], Step [12000/12500], Loss: 1.3998\n",
            "Training Accuracy -  64.598\n",
            "Epoch [16/20], Step [2000/12500], Loss: 0.6285\n",
            "Epoch [16/20], Step [4000/12500], Loss: 0.9405\n",
            "Epoch [16/20], Step [6000/12500], Loss: 1.2295\n",
            "Epoch [16/20], Step [8000/12500], Loss: 0.9999\n",
            "Epoch [16/20], Step [10000/12500], Loss: 0.8981\n",
            "Epoch [16/20], Step [12000/12500], Loss: 0.3721\n",
            "Training Accuracy -  64.458\n",
            "Epoch [17/20], Step [2000/12500], Loss: 1.3358\n",
            "Epoch [17/20], Step [4000/12500], Loss: 1.0317\n",
            "Epoch [17/20], Step [6000/12500], Loss: 1.0071\n",
            "Epoch [17/20], Step [8000/12500], Loss: 0.2368\n",
            "Epoch [17/20], Step [10000/12500], Loss: 0.9104\n",
            "Epoch [17/20], Step [12000/12500], Loss: 1.4280\n",
            "Training Accuracy -  64.68\n",
            "Epoch [18/20], Step [2000/12500], Loss: 0.6916\n",
            "Epoch [18/20], Step [4000/12500], Loss: 1.3965\n",
            "Epoch [18/20], Step [6000/12500], Loss: 0.7737\n",
            "Epoch [18/20], Step [8000/12500], Loss: 0.9404\n",
            "Epoch [18/20], Step [10000/12500], Loss: 1.1772\n",
            "Epoch [18/20], Step [12000/12500], Loss: 1.9034\n",
            "Training Accuracy -  64.496\n",
            "Epoch [19/20], Step [2000/12500], Loss: 0.6188\n",
            "Epoch [19/20], Step [4000/12500], Loss: 0.7954\n",
            "Epoch [19/20], Step [6000/12500], Loss: 1.6168\n",
            "Epoch [19/20], Step [8000/12500], Loss: 0.9916\n",
            "Epoch [19/20], Step [10000/12500], Loss: 1.7307\n",
            "Epoch [19/20], Step [12000/12500], Loss: 1.6564\n",
            "Training Accuracy -  64.504\n",
            "Epoch [20/20], Step [2000/12500], Loss: 1.5133\n",
            "Epoch [20/20], Step [4000/12500], Loss: 2.3358\n",
            "Epoch [20/20], Step [6000/12500], Loss: 2.5662\n",
            "Epoch [20/20], Step [8000/12500], Loss: 2.4921\n",
            "Epoch [20/20], Step [10000/12500], Loss: 1.5972\n",
            "Epoch [20/20], Step [12000/12500], Loss: 0.8532\n",
            "Training Accuracy -  64.74\n",
            "Finished Training\n"
          ],
          "name": "stdout"
        }
      ]
    },
    {
      "cell_type": "markdown",
      "metadata": {
        "id": "H4ia3T1rSOLh"
      },
      "source": [
        "#### Save the best model and show accuracy on test data"
      ],
      "id": "H4ia3T1rSOLh"
    },
    {
      "cell_type": "code",
      "metadata": {
        "id": "drZL_1ZeSOLh",
        "outputId": "e9c26748-7a5d-4246-813c-e77c1eda04c2"
      },
      "source": [
        "model4_acc=result_prediction(model4)\n",
        "PATH = './model_conv_4.pth'\n",
        "torch.save(model4.state_dict(), PATH)"
      ],
      "id": "drZL_1ZeSOLh",
      "execution_count": null,
      "outputs": [
        {
          "output_type": "stream",
          "text": [
            "Accuracy of the network: 61.54 %\n",
            "Accuracy of plane: 65.6 %\n",
            "Accuracy of car: 75.0 %\n",
            "Accuracy of bird: 43.2 %\n",
            "Accuracy of cat: 42.6 %\n",
            "Accuracy of deer: 60.4 %\n",
            "Accuracy of dog: 50.0 %\n",
            "Accuracy of frog: 69.6 %\n",
            "Accuracy of horse: 64.6 %\n",
            "Accuracy of ship: 73.2 %\n",
            "Accuracy of truck: 71.2 %\n"
          ],
          "name": "stdout"
        }
      ]
    },
    {
      "cell_type": "markdown",
      "metadata": {
        "id": "4Y-wZ1c1SOLh"
      },
      "source": [
        "#### plot the accuracy vs epoch"
      ],
      "id": "4Y-wZ1c1SOLh"
    },
    {
      "cell_type": "code",
      "metadata": {
        "id": "KTRpUqbwSOLi",
        "outputId": "312dbe22-7a5f-4196-a798-b9c18f36f78a"
      },
      "source": [
        "plt.scatter(ep4,Accuracy4)\n",
        "plt.plot(ep4,Accuracy4)\n",
        "plt.xlabel('number of epoch')\n",
        "plt.ylabel('Accuracy')"
      ],
      "id": "KTRpUqbwSOLi",
      "execution_count": null,
      "outputs": [
        {
          "output_type": "execute_result",
          "data": {
            "text/plain": [
              "Text(0, 0.5, 'Accuracy')"
            ]
          },
          "metadata": {
            "tags": []
          },
          "execution_count": 32
        },
        {
          "output_type": "display_data",
          "data": {
            "image/png": "[encoded data removed]",
            "text/plain": [
              "<Figure size 432x288 with 1 Axes>"
            ]
          },
          "metadata": {
            "tags": [],
            "needs_background": "light"
          }
        }
      ]
    },
    {
      "cell_type": "markdown",
      "metadata": {
        "id": "u6KWr4zeSOLi"
      },
      "source": [
        "#### Show the model architecture using model"
      ],
      "id": "u6KWr4zeSOLi"
    },
    {
      "cell_type": "code",
      "metadata": {
        "id": "1RShZgjNSOLi",
        "outputId": "38763283-2160-47af-9f6f-3d42dbaf7787"
      },
      "source": [
        "print(model4)"
      ],
      "id": "1RShZgjNSOLi",
      "execution_count": null,
      "outputs": [
        {
          "output_type": "stream",
          "text": [
            "ConvNet_4(\n",
            "  (conv1): Conv2d(3, 6, kernel_size=(2, 2), stride=(1, 1))\n",
            "  (batch1): BatchNorm2d(6, eps=1e-05, momentum=0.1, affine=True, track_running_stats=True)\n",
            "  (pool): MaxPool2d(kernel_size=2, stride=2, padding=0, dilation=1, ceil_mode=False)\n",
            "  (conv2): Conv2d(6, 16, kernel_size=(2, 2), stride=(1, 1))\n",
            "  (batch2): BatchNorm2d(16, eps=1e-05, momentum=0.1, affine=True, track_running_stats=True)\n",
            "  (conv3): Conv2d(16, 32, kernel_size=(2, 2), stride=(1, 1))\n",
            "  (batch3): BatchNorm2d(32, eps=1e-05, momentum=0.1, affine=True, track_running_stats=True)\n",
            "  (fc1): Linear(in_features=288, out_features=10, bias=True)\n",
            ")\n"
          ],
          "name": "stdout"
        }
      ]
    },
    {
      "cell_type": "markdown",
      "metadata": {
        "id": "I5j7MHRhSOLi"
      },
      "source": [
        "# ANALYSIS"
      ],
      "id": "I5j7MHRhSOLi"
    },
    {
      "cell_type": "code",
      "metadata": {
        "id": "fsjlG-49SOLi",
        "outputId": "6a1384f1-e299-415f-dbf8-710f185f9ded"
      },
      "source": [
        "print(\"MODEL:\")\n",
        "print(\"PART A - No BatchNormalization\")\n",
        "print(\"PART B - Two Dense Layers\")\n",
        "print(\"PART C - 2 blocks of Conv2D -> BatchNorm2D -> MaxPooling2D\")\n",
        "print(\"PART D - 3 blocks of Conv2D -> BatchNorm2D -> MaxPooling2D\")\n",
        "table = [['MODEL', 'ACCURACY'], ['PART A',str(model1_acc)+\"%\"], ['PART B',str(model2_acc)+\"%\"], ['PART C',str(model3_acc)+\"%\"], ['PART D',str(model4_acc)+\"%\"]]\n",
        "\n",
        "print()\n",
        "print()\n",
        "from tabulate import tabulate\n",
        "print(tabulate(table, headers='firstrow'))"
      ],
      "id": "fsjlG-49SOLi",
      "execution_count": null,
      "outputs": [
        {
          "output_type": "stream",
          "text": [
            "MODEL:\n",
            "PART A - No BatchNormalization\n",
            "PART B - Two Dense Layers\n",
            "PART C - 2 blocks of Conv2D -> BatchNorm2D -> MaxPooling2D\n",
            "PART D - 3 blocks of Conv2D -> BatchNorm2D -> MaxPooling2D\n",
            "\n",
            "\n",
            "MODEL    ACCURACY\n",
            "-------  ----------\n",
            "PART A   62.1%\n",
            "PART B   62.25%\n",
            "PART C   59.59%\n",
            "PART D   61.54%\n"
          ],
          "name": "stdout"
        }
      ]
    }
  ]
}