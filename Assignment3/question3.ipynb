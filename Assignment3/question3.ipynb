{
 "cells": [
  {
   "cell_type": "markdown",
   "metadata": {},
   "source": [
    "\n",
    "1. You are provided the titanic dataset. Load the dataset and perform splitting into training and test sets with 70:30 ratio randomly using test train split.\n",
    "2. Use the Logistic regression created from scratch (from the prev question) in this question as well.\n",
    "3. Data cleaning plays a major role in this question. Report all the methods used by you in the ipynb.\n",
    "\n",
    "--> \n",
    "\n",
    "i. Check for missing values\n",
    "\n",
    "ii. Drop Columns & Handle missing values\n",
    "\n",
    "iii. Create dummies for categorical features\n",
    "\n",
    "you are free to perform other data cleaning to improve your results.\n",
    "\n",
    "\n",
    "\n",
    "4. Report accuracy score, Confusion matrix, heat map, classifiaction report and any other metrics you feel useful."
   ]
  },
  {
   "cell_type": "markdown",
   "metadata": {},
   "source": [
    "dataset link : \n",
    "https://iiitaphyd-my.sharepoint.com/:f:/g/personal/apurva_jadhav_students_iiit_ac_in/Eictt5_qmoxNqezgQQiMWeIBph4sxlfA6jWAJNPnV2SF9Q?e=mQmYN0 \n",
    "\n",
    "(titanic.csv)\n"
   ]
  },
  {
   "cell_type": "code",
   "execution_count": 3,
   "metadata": {},
   "outputs": [],
   "source": [
    "import seaborn as sns\n",
    "import numpy as np\n",
    "import pandas as pd\n",
    "import matplotlib.pyplot as plt\n",
    "from sklearn.preprocessing import OneHotEncoder \n",
    "from sklearn.metrics import confusion_matrix\n",
    "from sklearn.compose import ColumnTransformer \n",
    "from sklearn.model_selection import train_test_split\n",
    "import pandas_profiling"
   ]
  },
  {
   "cell_type": "code",
   "execution_count": 4,
   "metadata": {},
   "outputs": [],
   "source": [
    "df = pd.read_csv ('titanic.csv')"
   ]
  },
  {
   "cell_type": "code",
   "execution_count": 5,
   "metadata": {},
   "outputs": [
    {
     "data": {
      "text/plain": [
       "PassengerId      0\n",
       "Survived         0\n",
       "Pclass           0\n",
       "Name             0\n",
       "Sex              0\n",
       "Age            177\n",
       "SibSp            0\n",
       "Parch            0\n",
       "Ticket           0\n",
       "Fare             0\n",
       "Cabin          687\n",
       "Embarked         2\n",
       "dtype: int64"
      ]
     },
     "execution_count": 5,
     "metadata": {},
     "output_type": "execute_result"
    }
   ],
   "source": [
    "#checking all the missing values per attribute\n",
    "df.isnull().sum()"
   ]
  },
  {
   "cell_type": "code",
   "execution_count": 6,
   "metadata": {},
   "outputs": [],
   "source": [
    "#since most of the values of cabin column is missing so, we will drop this column\n",
    "df=df.drop([\"Cabin\"],axis=1)\n",
    "#column age has 177 missing value so we will replace it by avg age\n",
    "df['Age'] = df['Age'].fillna(int(df['Age'].mean()))\n",
    "#column Embarked has 2 missing value so we will replace it by most frequent value\n",
    "Embark = {'S' : 1, 'C' : 2, 'Q' : 3}\n",
    "df['Embarked'] = df['Embarked'].map(Embark)\n",
    "df['Embarked'] = df['Embarked'].fillna(df['Embarked'].median())"
   ]
  },
  {
   "cell_type": "code",
   "execution_count": 7,
   "metadata": {
    "scrolled": true
   },
   "outputs": [
    {
     "data": {
      "text/plain": [
       "PassengerId    0\n",
       "Survived       0\n",
       "Pclass         0\n",
       "Name           0\n",
       "Sex            0\n",
       "Age            0\n",
       "SibSp          0\n",
       "Parch          0\n",
       "Ticket         0\n",
       "Fare           0\n",
       "Embarked       0\n",
       "dtype: int64"
      ]
     },
     "execution_count": 7,
     "metadata": {},
     "output_type": "execute_result"
    }
   ],
   "source": [
    "df.isnull().sum()"
   ]
  },
  {
   "cell_type": "code",
   "execution_count": 8,
   "metadata": {},
   "outputs": [],
   "source": [
    "sex=pd.get_dummies(df['Sex'],drop_first=True)\n",
    "df=df.drop([\"Sex\"],axis=1)\n",
    "Emb=pd.get_dummies(df['Embarked'],drop_first=True)\n",
    "df=df.drop([\"Embarked\"],axis=1)\n",
    "Pcl=pd.get_dummies(df['Pclass'],drop_first=True)\n",
    "df=df.drop([\"Pclass\"],axis=1)\n",
    "df=df.drop([\"Name\",\"Ticket\",\"PassengerId\"],axis=1)\n",
    "df=pd.concat([df,sex,Emb,Pcl],axis=1)"
   ]
  },
  {
   "cell_type": "code",
   "execution_count": 9,
   "metadata": {},
   "outputs": [
    {
     "name": "stdout",
     "output_type": "stream",
     "text": [
      "(891, 2)\n"
     ]
    }
   ],
   "source": [
    "X=df.drop([\"Survived\"],axis=1).values\n",
    "Y=pd.get_dummies(df['Survived']).values\n",
    "print(Y.shape)"
   ]
  },
  {
   "cell_type": "code",
   "execution_count": 10,
   "metadata": {},
   "outputs": [
    {
     "name": "stdout",
     "output_type": "stream",
     "text": [
      "(712, 9)\n",
      "(712, 2)\n",
      "(179, 9)\n",
      "(179, 2)\n"
     ]
    }
   ],
   "source": [
    "X_train,X_test,Y_train,Y_test = train_test_split(X,Y,test_size=0.2, random_state=42)\n",
    "print(X_train.shape)\n",
    "print(Y_train.shape)\n",
    "print(X_test.shape)\n",
    "print(Y_test.shape)\n",
    "X_train = np.c_[np.ones(X_train.shape[0]), X_train]\n",
    "X_test = np.c_[np.ones(X_test.shape[0]), X_test]"
   ]
  },
  {
   "cell_type": "code",
   "execution_count": 11,
   "metadata": {},
   "outputs": [
    {
     "data": {
      "text/plain": [
       "[<matplotlib.lines.Line2D at 0x28281f311f0>,\n",
       " <matplotlib.lines.Line2D at 0x28281f312e0>]"
      ]
     },
     "execution_count": 11,
     "metadata": {},
     "output_type": "execute_result"
    },
    {
     "data": {
      "image/png": "[encoded data removed]",
      "text/plain": [
       "<Figure size 432x288 with 1 Axes>"
      ]
     },
     "metadata": {
      "needs_background": "light"
     },
     "output_type": "display_data"
    }
   ],
   "source": [
    "theta = np.zeros((X_train.shape[1],Y_train.shape[1]))\n",
    "learning_rate = 0.003\n",
    "no_of_iterations = 20000\n",
    "\n",
    "m=X_train.shape[0]\n",
    "i = 1\n",
    "def sigmoid(z):\n",
    "    return 1 / (1 + np.exp(-z))\n",
    "def logistic_regression(X_train,Y_train,theta,iteration,learning_rate):\n",
    "    cost_arr = np.empty((0,Y_train.shape[1]))\n",
    "    for i in range(0,no_of_iterations):\n",
    "        lineq = np.dot(X_train, theta)\n",
    "        h = sigmoid(lineq)\n",
    "        cost = -1/m * ((Y_train * np.log(h)) + ((1-Y_train) * np.log(1-h)))\n",
    "        cost = cost.sum(axis = 0)\n",
    "        cost_arr = np.vstack((cost_arr, cost))\n",
    "        delta = (learning_rate/m) * np.dot((h-Y_train).T, X_train)\n",
    "        theta = theta - delta.T  \n",
    "    return theta,cost_arr\n",
    "theta,cost_arr=logistic_regression(X_train,Y_train,theta,no_of_iterations,learning_rate)\n",
    "plt.plot(cost_arr[:,0:2], label='class 0', c='b')"
   ]
  },
  {
   "cell_type": "code",
   "execution_count": 12,
   "metadata": {},
   "outputs": [],
   "source": [
    "model_predict = sigmoid(np.dot(X_test, theta))\n",
    "predict = np.zeros((X_test.shape[0],1))\n",
    "for row in range(len(model_predict)):\n",
    "    max_ind=-1\n",
    "    max_val=-1\n",
    "    for i in range(0,len(model_predict[row])):\n",
    "        if model_predict[row][i]>max_val:\n",
    "            max_val=model_predict[row][i]\n",
    "            max_ind=i\n",
    "    predict[row]=max_ind"
   ]
  },
  {
   "cell_type": "code",
   "execution_count": 13,
   "metadata": {},
   "outputs": [
    {
     "name": "stdout",
     "output_type": "stream",
     "text": [
      "Accuracy 0.7821229050279329\n"
     ]
    }
   ],
   "source": [
    "Y_test_label=[np.where(r==1)[0][0] for r in Y_test]\n",
    "Y_test_label=np.array(Y_test_label)\n",
    "count1=0\n",
    "for i in range(0,len(predict)):\n",
    "    if predict[i]==Y_test_label[i]:\n",
    "        count1+=1\n",
    "print(\"Accuracy\",count1/X_test.shape[0])\n",
    "    "
   ]
  },
  {
   "cell_type": "code",
   "execution_count": 14,
   "metadata": {},
   "outputs": [
    {
     "name": "stdout",
     "output_type": "stream",
     "text": [
      "Confusion Matrix\n",
      "[[90 15]\n",
      " [24 50]]\n"
     ]
    }
   ],
   "source": [
    "from sklearn.metrics import confusion_matrix\n",
    "print(\"Confusion Matrix\")\n",
    "print(confusion_matrix(Y_test_label, predict))"
   ]
  },
  {
   "cell_type": "code",
   "execution_count": 15,
   "metadata": {
    "scrolled": true
   },
   "outputs": [
    {
     "name": "stdout",
     "output_type": "stream",
     "text": [
      "classification Report\n",
      "              precision    recall  f1-score   support\n",
      "\n",
      "           0       0.79      0.86      0.82       105\n",
      "           1       0.77      0.68      0.72        74\n",
      "\n",
      "    accuracy                           0.78       179\n",
      "   macro avg       0.78      0.77      0.77       179\n",
      "weighted avg       0.78      0.78      0.78       179\n",
      "\n"
     ]
    }
   ],
   "source": [
    "from sklearn.metrics import classification_report\n",
    "print(\"classification Report\")\n",
    "print(classification_report(Y_test_label, predict))"
   ]
  },
  {
   "cell_type": "code",
   "execution_count": 20,
   "metadata": {},
   "outputs": [
    {
     "data": {
      "text/plain": [
       "Text(0.5, 15.0, 'Predicted class')"
      ]
     },
     "execution_count": 20,
     "metadata": {},
     "output_type": "execute_result"
    },
    {
     "data": {
      "image/png": "[encoded data removed]",
      "text/plain": [
       "<Figure size 432x288 with 2 Axes>"
      ]
     },
     "metadata": {
      "needs_background": "light"
     },
     "output_type": "display_data"
    }
   ],
   "source": [
    "classLabels=[]\n",
    "conf=confusion_matrix(Y_test_label, predict)\n",
    "fig, ax21 = plt.subplots()\n",
    "i=0\n",
    "while(i<10):\n",
    "    classLabels.append(i)\n",
    "    i+=1\n",
    "sns.heatmap(pd.DataFrame(conf), annot=True, cmap=\"YlGnBu\" ,fmt='g')\n",
    "ax21.xaxis.set_label_position(\"bottom\")\n",
    "plt.ylabel('Actual class')\n",
    "plt.tight_layout()\n",
    "plt.xlabel('Predicted class')\n"
   ]
  }
 ],
 "metadata": {
  "kernelspec": {
   "display_name": "Python 3",
   "language": "python",
   "name": "python3"
  },
  "language_info": {
   "codemirror_mode": {
    "name": "ipython",
    "version": 3
   },
   "file_extension": ".py",
   "mimetype": "text/x-python",
   "name": "python",
   "nbconvert_exporter": "python",
   "pygments_lexer": "ipython3",
   "version": "3.8.3"
  }
 },
 "nbformat": 4,
 "nbformat_minor": 4
}
