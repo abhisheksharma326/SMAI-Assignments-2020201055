{
  "nbformat": 4,
  "nbformat_minor": 5,
  "metadata": {
    "accelerator": "GPU",
    "colab": {
      "name": "q3.ipynb",
      "provenance": [],
      "collapsed_sections": []
    },
    "kernelspec": {
      "display_name": "Python 3",
      "language": "python",
      "name": "python3"
    },
    "language_info": {
      "codemirror_mode": {
        "name": "ipython",
        "version": 3
      },
      "file_extension": ".py",
      "mimetype": "text/x-python",
      "name": "python",
      "nbconvert_exporter": "python",
      "pygments_lexer": "ipython3",
      "version": "3.8.3"
    }
  },
  "cells": [
    {
      "cell_type": "code",
      "metadata": {
        "id": "3590bb82"
      },
      "source": [
        "import numpy as np\n",
        "from tensorflow.keras.datasets import mnist\n",
        "from tensorflow.keras.utils import to_categorical\n",
        "from tensorflow.keras.models import Sequential\n",
        "from tensorflow.keras.layers import Dense,Activation,Dropout\n",
        "import matplotlib.pyplot as plt\n",
        "from tensorflow.keras import initializers\n",
        "from keras.optimizers import SGD\n",
        "from tensorflow import keras\n",
        "from keras.optimizers.schedules import ExponentialDecay\n",
        "from tensorflow.keras.models import Model\n",
        "import tensorflow as tf\n",
        "from tensorflow.keras import layers, losses\n",
        "from sklearn.model_selection import train_test_split"
      ],
      "id": "3590bb82",
      "execution_count": 3,
      "outputs": []
    },
    {
      "cell_type": "code",
      "metadata": {
        "id": "9b8cc95e"
      },
      "source": [
        "train,test,valid={},{},{}\n",
        "(train[\"x\"], train[\"y\"]), (test[\"x\"], test[\"y\"]) = mnist.load_data()"
      ],
      "id": "9b8cc95e",
      "execution_count": 5,
      "outputs": []
    },
    {
      "cell_type": "code",
      "metadata": {
        "id": "b56f1cef",
        "colab": {
          "base_uri": "https://localhost:8080/"
        },
        "outputId": "1d185dbd-95ed-4e9a-c07d-e274f88eebb3"
      },
      "source": [
        "num_labels = len(np.unique(train[\"y\"]))\n",
        "train[\"y\"] = to_categorical(train[\"y\"])\n",
        "test[\"y\"] = to_categorical(test[\"y\"])\n",
        "input_size = train[\"x\"].shape[1]*train[\"x\"].shape[1]\n",
        "train[\"x\"] = np.reshape(train[\"x\"],[-1,input_size])\n",
        "test[\"x\"] = np.reshape(test[\"x\"],[-1,input_size])\n",
        "train[\"x\"] = train[\"x\"].astype('float32')/255\n",
        "test[\"x\"] = test[\"x\"].astype('float32')/255\n",
        "train[\"x\"], valid[\"x\"], train[\"y\"], valid[\"y\"]=train_test_split(train[\"x\"], train[\"y\"], test_size=0.3, random_state=42)\n",
        "print(train[\"x\"].shape)\n",
        "print(train[\"y\"].shape)\n",
        "print(test[\"x\"].shape)\n",
        "print(test[\"y\"].shape)\n",
        "print(valid[\"x\"].shape)\n",
        "print(valid[\"y\"].shape)"
      ],
      "id": "b56f1cef",
      "execution_count": 6,
      "outputs": [
        {
          "output_type": "stream",
          "text": [
            "(42000, 784)\n",
            "(42000, 10)\n",
            "(10000, 784)\n",
            "(10000, 10)\n",
            "(18000, 784)\n",
            "(18000, 10)\n"
          ],
          "name": "stdout"
        }
      ]
    },
    {
      "cell_type": "code",
      "metadata": {
        "id": "fe435192"
      },
      "source": [
        "def loss_plot(History, epochs):\n",
        "    N = np.arange(0, epochs)\n",
        "    plt.plot(N, History.history[\"loss\"], label=\"train_loss\")\n",
        "    plt.title(\"Training Loss vs epochs\")\n",
        "    plt.xlabel(\"Number of Epoch\")\n",
        "    plt.ylabel(\"Loss\")"
      ],
      "id": "fe435192",
      "execution_count": 8,
      "outputs": []
    },
    {
      "cell_type": "code",
      "metadata": {
        "id": "b74c5aaa"
      },
      "source": [
        "batch_Size = 128\n",
        "class ANN:\n",
        "    def MLP(self,input_dim,kinit='glorot_normal'): \n",
        "        self.dropout = 0.45\n",
        "        self.model = Sequential()\n",
        "        self.model.add(Dense(256, input_dim = input_dim, kernel_initializer=kinit))\n",
        "        self.model.add(Activation('relu'))\n",
        "        self.model.add(Dropout(self.dropout))\n",
        "        self.model.add(Dense(256,kernel_initializer=kinit))\n",
        "        self.model.add(Activation('relu'))\n",
        "        self.model.add(Dropout(self.dropout))\n",
        "        self.model.add(Dense(10))\n",
        "        self.model.add(Activation('softmax'))\n",
        "        return self.model"
      ],
      "id": "b74c5aaa",
      "execution_count": 9,
      "outputs": []
    },
    {
      "cell_type": "markdown",
      "metadata": {
        "id": "fb33fc02"
      },
      "source": [
        "# part 1"
      ],
      "id": "fb33fc02"
    },
    {
      "cell_type": "markdown",
      "metadata": {
        "id": "ebddc630"
      },
      "source": [
        "## 1. Experiment with different optimizers"
      ],
      "id": "ebddc630"
    },
    {
      "cell_type": "markdown",
      "metadata": {
        "id": "33a30c58"
      },
      "source": [
        "# **adam optimizer**"
      ],
      "id": "33a30c58"
    },
    {
      "cell_type": "code",
      "metadata": {
        "colab": {
          "base_uri": "https://localhost:8080/"
        },
        "id": "73e2e7b0",
        "outputId": "61fbeda3-e86c-4ea7-ff95-029e96831251"
      },
      "source": [
        "obj = ANN()\n",
        "input_dim=train[\"x\"].shape[1]\n",
        "model1=obj.MLP(input_dim)\n",
        "loss_1='categorical_crossentropy'\n",
        "opt='adam'\n",
        "model1.compile(loss=loss_1, optimizer=opt, metrics=['accuracy'])\n",
        "history1 = model1.fit(train[\"x\"],train[\"y\"],epochs = 10, batch_size = batch_Size, validation_data = (valid[\"x\"],valid[\"y\"]))"
      ],
      "id": "73e2e7b0",
      "execution_count": 10,
      "outputs": [
        {
          "output_type": "stream",
          "text": [
            "Epoch 1/10\n",
            "329/329 [==============================] - 4s 4ms/step - loss: 0.8572 - accuracy: 0.7225 - val_loss: 0.1866 - val_accuracy: 0.9445\n",
            "Epoch 2/10\n",
            "329/329 [==============================] - 1s 3ms/step - loss: 0.2437 - accuracy: 0.9269 - val_loss: 0.1307 - val_accuracy: 0.9611\n",
            "Epoch 3/10\n",
            "329/329 [==============================] - 1s 4ms/step - loss: 0.1788 - accuracy: 0.9462 - val_loss: 0.1134 - val_accuracy: 0.9658\n",
            "Epoch 4/10\n",
            "329/329 [==============================] - 1s 4ms/step - loss: 0.1448 - accuracy: 0.9551 - val_loss: 0.1010 - val_accuracy: 0.9702\n",
            "Epoch 5/10\n",
            "329/329 [==============================] - 1s 3ms/step - loss: 0.1248 - accuracy: 0.9621 - val_loss: 0.0912 - val_accuracy: 0.9733\n",
            "Epoch 6/10\n",
            "329/329 [==============================] - 1s 4ms/step - loss: 0.1151 - accuracy: 0.9651 - val_loss: 0.0924 - val_accuracy: 0.9721\n",
            "Epoch 7/10\n",
            "329/329 [==============================] - 1s 3ms/step - loss: 0.1057 - accuracy: 0.9675 - val_loss: 0.0848 - val_accuracy: 0.9748\n",
            "Epoch 8/10\n",
            "329/329 [==============================] - 1s 3ms/step - loss: 0.0986 - accuracy: 0.9700 - val_loss: 0.0820 - val_accuracy: 0.9756\n",
            "Epoch 9/10\n",
            "329/329 [==============================] - 1s 3ms/step - loss: 0.0865 - accuracy: 0.9723 - val_loss: 0.0835 - val_accuracy: 0.9751\n",
            "Epoch 10/10\n",
            "329/329 [==============================] - 1s 3ms/step - loss: 0.0830 - accuracy: 0.9733 - val_loss: 0.0794 - val_accuracy: 0.9772\n"
          ],
          "name": "stdout"
        }
      ]
    },
    {
      "cell_type": "code",
      "metadata": {
        "colab": {
          "base_uri": "https://localhost:8080/",
          "height": 312
        },
        "id": "38f3b423",
        "outputId": "c697625f-c1c4-4481-9043-39f2ff5c39ce"
      },
      "source": [
        "_,acc1 = model1.evaluate(test[\"x\"],test[\"y\"],batch_size = 128, verbose=0)\n",
        "print(\"Test accuracy: \",acc1*100)\n",
        "loss_plot(history1,10)"
      ],
      "id": "38f3b423",
      "execution_count": 11,
      "outputs": [
        {
          "output_type": "stream",
          "text": [
            "Test accuracy:  97.8600025177002\n"
          ],
          "name": "stdout"
        },
        {
          "output_type": "display_data",
          "data": {
            "image/png": "[encoded data removed]",
            "text/plain": [
              "<Figure size 432x288 with 1 Axes>"
            ]
          },
          "metadata": {
            "tags": [],
            "needs_background": "light"
          }
        }
      ]
    },
    {
      "cell_type": "markdown",
      "metadata": {
        "id": "V535K-bbxByw"
      },
      "source": [
        "# **RMSprop optimizer**"
      ],
      "id": "V535K-bbxByw"
    },
    {
      "cell_type": "code",
      "metadata": {
        "colab": {
          "base_uri": "https://localhost:8080/"
        },
        "id": "238292e7",
        "outputId": "c957f812-2213-426b-83f9-c91a4b77e2fd"
      },
      "source": [
        "obj1 = ANN()\n",
        "input_dim=train[\"x\"].shape[1]\n",
        "model2=obj1.MLP(input_dim)\n",
        "loss_1='categorical_crossentropy'\n",
        "opt='RMSprop'\n",
        "model2.compile(loss=loss_1, optimizer=opt, metrics=['accuracy'])\n",
        "history1 = model2.fit(train[\"x\"], train[\"y\"], epochs = 10, batch_size = 128, validation_data = (valid[\"x\"],valid[\"y\"]))"
      ],
      "id": "238292e7",
      "execution_count": 12,
      "outputs": [
        {
          "output_type": "stream",
          "text": [
            "Epoch 1/10\n",
            "329/329 [==============================] - 2s 4ms/step - loss: 0.7342 - accuracy: 0.7671 - val_loss: 0.1967 - val_accuracy: 0.9413\n",
            "Epoch 2/10\n",
            "329/329 [==============================] - 1s 4ms/step - loss: 0.2373 - accuracy: 0.9291 - val_loss: 0.1365 - val_accuracy: 0.9594\n",
            "Epoch 3/10\n",
            "329/329 [==============================] - 1s 4ms/step - loss: 0.1795 - accuracy: 0.9480 - val_loss: 0.1184 - val_accuracy: 0.9650\n",
            "Epoch 4/10\n",
            "329/329 [==============================] - 1s 4ms/step - loss: 0.1533 - accuracy: 0.9556 - val_loss: 0.1084 - val_accuracy: 0.9681\n",
            "Epoch 5/10\n",
            "329/329 [==============================] - 1s 4ms/step - loss: 0.1290 - accuracy: 0.9606 - val_loss: 0.1036 - val_accuracy: 0.9719\n",
            "Epoch 6/10\n",
            "329/329 [==============================] - 1s 4ms/step - loss: 0.1198 - accuracy: 0.9654 - val_loss: 0.1051 - val_accuracy: 0.9712\n",
            "Epoch 7/10\n",
            "329/329 [==============================] - 1s 4ms/step - loss: 0.1077 - accuracy: 0.9674 - val_loss: 0.1003 - val_accuracy: 0.9744\n",
            "Epoch 8/10\n",
            "329/329 [==============================] - 1s 4ms/step - loss: 0.1026 - accuracy: 0.9693 - val_loss: 0.0951 - val_accuracy: 0.9753\n",
            "Epoch 9/10\n",
            "329/329 [==============================] - 1s 4ms/step - loss: 0.1002 - accuracy: 0.9721 - val_loss: 0.1021 - val_accuracy: 0.9757\n",
            "Epoch 10/10\n",
            "329/329 [==============================] - 1s 4ms/step - loss: 0.0917 - accuracy: 0.9723 - val_loss: 0.1046 - val_accuracy: 0.9751\n"
          ],
          "name": "stdout"
        }
      ]
    },
    {
      "cell_type": "code",
      "metadata": {
        "colab": {
          "base_uri": "https://localhost:8080/",
          "height": 312
        },
        "id": "af8e3cc2",
        "outputId": "9f067888-d69e-4e15-d8d2-1cbf8de55ba3"
      },
      "source": [
        "_,acc2 = model2.evaluate(test[\"x\"],test[\"y\"],batch_size = batch_Size, verbose=0)\n",
        "print(\"Test accuracy: \",acc2*100)\n",
        "loss_plot(history1,10)"
      ],
      "id": "af8e3cc2",
      "execution_count": 13,
      "outputs": [
        {
          "output_type": "stream",
          "text": [
            "Test accuracy:  97.54999876022339\n"
          ],
          "name": "stdout"
        },
        {
          "output_type": "display_data",
          "data": {
            "image/png": "[encoded data removed]",
            "text/plain": [
              "<Figure size 432x288 with 1 Axes>"
            ]
          },
          "metadata": {
            "tags": [],
            "needs_background": "light"
          }
        }
      ]
    },
    {
      "cell_type": "markdown",
      "metadata": {
        "id": "0YWqYFUGxgoi"
      },
      "source": [
        "# **SGD with momentum**"
      ],
      "id": "0YWqYFUGxgoi"
    },
    {
      "cell_type": "code",
      "metadata": {
        "colab": {
          "base_uri": "https://localhost:8080/"
        },
        "id": "846106d8",
        "outputId": "8dc92ee0-9688-4840-aee3-cf1a0b8f7d03"
      },
      "source": [
        "obj1 = ANN()\n",
        "input_dim=train[\"x\"].shape[1]\n",
        "model2=obj1.MLP(input_dim)\n",
        "loss_1='categorical_crossentropy'\n",
        "opt=SGD(momentum = 0.7)\n",
        "model2.compile(loss=loss_1, optimizer=opt, metrics=['accuracy'])\n",
        "history1 = model2.fit(train[\"x\"], train[\"y\"], epochs = 10, batch_size = 128, validation_data = (valid[\"x\"],valid[\"y\"]))"
      ],
      "id": "846106d8",
      "execution_count": 14,
      "outputs": [
        {
          "output_type": "stream",
          "text": [
            "Epoch 1/10\n",
            "329/329 [==============================] - 2s 4ms/step - loss: 1.6042 - accuracy: 0.4612 - val_loss: 0.4583 - val_accuracy: 0.8805\n",
            "Epoch 2/10\n",
            "329/329 [==============================] - 1s 4ms/step - loss: 0.6018 - accuracy: 0.8134 - val_loss: 0.3361 - val_accuracy: 0.9046\n",
            "Epoch 3/10\n",
            "329/329 [==============================] - 1s 4ms/step - loss: 0.4687 - accuracy: 0.8604 - val_loss: 0.2861 - val_accuracy: 0.9179\n",
            "Epoch 4/10\n",
            "329/329 [==============================] - 1s 4ms/step - loss: 0.3952 - accuracy: 0.8834 - val_loss: 0.2537 - val_accuracy: 0.9264\n",
            "Epoch 5/10\n",
            "329/329 [==============================] - 1s 4ms/step - loss: 0.3567 - accuracy: 0.8926 - val_loss: 0.2311 - val_accuracy: 0.9310\n",
            "Epoch 6/10\n",
            "329/329 [==============================] - 1s 4ms/step - loss: 0.3197 - accuracy: 0.9041 - val_loss: 0.2126 - val_accuracy: 0.9367\n",
            "Epoch 7/10\n",
            "329/329 [==============================] - 1s 4ms/step - loss: 0.2975 - accuracy: 0.9128 - val_loss: 0.1964 - val_accuracy: 0.9413\n",
            "Epoch 8/10\n",
            "329/329 [==============================] - 1s 4ms/step - loss: 0.2773 - accuracy: 0.9175 - val_loss: 0.1849 - val_accuracy: 0.9445\n",
            "Epoch 9/10\n",
            "329/329 [==============================] - 1s 4ms/step - loss: 0.2645 - accuracy: 0.9221 - val_loss: 0.1729 - val_accuracy: 0.9474\n",
            "Epoch 10/10\n",
            "329/329 [==============================] - 1s 4ms/step - loss: 0.2448 - accuracy: 0.9278 - val_loss: 0.1674 - val_accuracy: 0.9500\n"
          ],
          "name": "stdout"
        }
      ]
    },
    {
      "cell_type": "code",
      "metadata": {
        "colab": {
          "base_uri": "https://localhost:8080/",
          "height": 312
        },
        "id": "20fe3d94",
        "outputId": "8eaebc83-1d58-4019-cecd-c6c4f85e306d"
      },
      "source": [
        "_,acc2 = model2.evaluate(test[\"x\"],test[\"y\"],batch_size = batch_Size, verbose=0)\n",
        "print(\"Test accuracy: \",acc2*100)\n",
        "loss_plot(history1,10)"
      ],
      "id": "20fe3d94",
      "execution_count": 15,
      "outputs": [
        {
          "output_type": "stream",
          "text": [
            "Test accuracy:  95.34000158309937\n"
          ],
          "name": "stdout"
        },
        {
          "output_type": "display_data",
          "data": {
            "image/png": "[encoded data removed]",
            "text/plain": [
              "<Figure size 432x288 with 1 Axes>"
            ]
          },
          "metadata": {
            "tags": [],
            "needs_background": "light"
          }
        }
      ]
    },
    {
      "cell_type": "markdown",
      "metadata": {
        "id": "jjW7buWXx5jr"
      },
      "source": [
        "# **SGD without momentum**"
      ],
      "id": "jjW7buWXx5jr"
    },
    {
      "cell_type": "code",
      "metadata": {
        "colab": {
          "base_uri": "https://localhost:8080/"
        },
        "id": "15b844bf",
        "outputId": "551bb5ea-be0a-421d-c6d2-7ab1c8245ba3"
      },
      "source": [
        "obj1 = ANN()\n",
        "input_dim=train[\"x\"].shape[1]\n",
        "model2=obj1.MLP(input_dim)\n",
        "loss_1='categorical_crossentropy'\n",
        "opt=SGD(momentum = 0.0)\n",
        "model2.compile(loss=loss_1, optimizer=opt, metrics=['accuracy'])\n",
        "history1 = model2.fit(train[\"x\"], train[\"y\"], epochs = 10, batch_size = 128, validation_data = (valid[\"x\"],valid[\"y\"]))"
      ],
      "id": "15b844bf",
      "execution_count": 16,
      "outputs": [
        {
          "output_type": "stream",
          "text": [
            "Epoch 1/10\n",
            "329/329 [==============================] - 2s 4ms/step - loss: 2.0851 - accuracy: 0.2661 - val_loss: 1.0152 - val_accuracy: 0.7909\n",
            "Epoch 2/10\n",
            "329/329 [==============================] - 1s 4ms/step - loss: 1.1244 - accuracy: 0.6505 - val_loss: 0.6009 - val_accuracy: 0.8524\n",
            "Epoch 3/10\n",
            "329/329 [==============================] - 1s 4ms/step - loss: 0.7946 - accuracy: 0.7530 - val_loss: 0.4728 - val_accuracy: 0.8742\n",
            "Epoch 4/10\n",
            "329/329 [==============================] - 1s 4ms/step - loss: 0.6608 - accuracy: 0.7951 - val_loss: 0.4112 - val_accuracy: 0.8864\n",
            "Epoch 5/10\n",
            "329/329 [==============================] - 1s 3ms/step - loss: 0.5918 - accuracy: 0.8196 - val_loss: 0.3740 - val_accuracy: 0.8946\n",
            "Epoch 6/10\n",
            "329/329 [==============================] - 1s 3ms/step - loss: 0.5267 - accuracy: 0.8398 - val_loss: 0.3459 - val_accuracy: 0.9019\n",
            "Epoch 7/10\n",
            "329/329 [==============================] - 1s 3ms/step - loss: 0.4912 - accuracy: 0.8532 - val_loss: 0.3240 - val_accuracy: 0.9072\n",
            "Epoch 8/10\n",
            "329/329 [==============================] - 1s 4ms/step - loss: 0.4665 - accuracy: 0.8596 - val_loss: 0.3087 - val_accuracy: 0.9099\n",
            "Epoch 9/10\n",
            "329/329 [==============================] - 1s 3ms/step - loss: 0.4379 - accuracy: 0.8688 - val_loss: 0.2933 - val_accuracy: 0.9139\n",
            "Epoch 10/10\n",
            "329/329 [==============================] - 1s 4ms/step - loss: 0.4199 - accuracy: 0.8733 - val_loss: 0.2830 - val_accuracy: 0.9175\n"
          ],
          "name": "stdout"
        }
      ]
    },
    {
      "cell_type": "code",
      "metadata": {
        "colab": {
          "base_uri": "https://localhost:8080/",
          "height": 312
        },
        "id": "d1994e70",
        "outputId": "62aa2f4f-cb9c-41fe-ec2c-ebe0406aed0c"
      },
      "source": [
        "_,acc2 = model2.evaluate(test[\"x\"],test[\"y\"],batch_size = batch_Size, verbose=0)\n",
        "print(\"Test accuracy: \",acc2*100)\n",
        "loss_plot(history1,10)"
      ],
      "id": "d1994e70",
      "execution_count": 17,
      "outputs": [
        {
          "output_type": "stream",
          "text": [
            "Test accuracy:  92.18999743461609\n"
          ],
          "name": "stdout"
        },
        {
          "output_type": "display_data",
          "data": {
            "image/png": "[encoded data removed]",
            "text/plain": [
              "<Figure size 432x288 with 1 Axes>"
            ]
          },
          "metadata": {
            "tags": [],
            "needs_background": "light"
          }
        }
      ]
    },
    {
      "cell_type": "markdown",
      "metadata": {
        "id": "6b01dbf8"
      },
      "source": [
        "## 2. Experiment with different weight initialisation  "
      ],
      "id": "6b01dbf8"
    },
    {
      "cell_type": "markdown",
      "metadata": {
        "id": "6f45fdf2"
      },
      "source": [
        "### 2.(a) Xavier weight initialization"
      ],
      "id": "6f45fdf2"
    },
    {
      "cell_type": "code",
      "metadata": {
        "colab": {
          "base_uri": "https://localhost:8080/"
        },
        "id": "d7ec500a",
        "outputId": "f6bac30f-9ea7-4343-9be5-ed8ea32273bb"
      },
      "source": [
        "obj1 = ANN()\n",
        "input_dim=train[\"x\"].shape[1]\n",
        "model2=obj1.MLP(input_dim,'glorot_normal')\n",
        "loss_1='categorical_crossentropy'\n",
        "opt=SGD(momentum = 0.0)\n",
        "model2.compile(loss=loss_1, optimizer=opt, metrics=['accuracy'])\n",
        "history1 = model2.fit(train[\"x\"], train[\"y\"], epochs = 10, batch_size = 128, validation_data = (valid[\"x\"],valid[\"y\"]))"
      ],
      "id": "d7ec500a",
      "execution_count": 18,
      "outputs": [
        {
          "output_type": "stream",
          "text": [
            "Epoch 1/10\n",
            "329/329 [==============================] - 2s 4ms/step - loss: 2.0801 - accuracy: 0.2659 - val_loss: 0.9908 - val_accuracy: 0.7937\n",
            "Epoch 2/10\n",
            "329/329 [==============================] - 1s 4ms/step - loss: 1.1118 - accuracy: 0.6605 - val_loss: 0.5892 - val_accuracy: 0.8469\n",
            "Epoch 3/10\n",
            "329/329 [==============================] - 1s 3ms/step - loss: 0.7904 - accuracy: 0.7548 - val_loss: 0.4690 - val_accuracy: 0.8729\n",
            "Epoch 4/10\n",
            "329/329 [==============================] - 1s 4ms/step - loss: 0.6573 - accuracy: 0.7943 - val_loss: 0.4101 - val_accuracy: 0.8862\n",
            "Epoch 5/10\n",
            "329/329 [==============================] - 1s 3ms/step - loss: 0.5927 - accuracy: 0.8197 - val_loss: 0.3729 - val_accuracy: 0.8946\n",
            "Epoch 6/10\n",
            "329/329 [==============================] - 1s 4ms/step - loss: 0.5328 - accuracy: 0.8394 - val_loss: 0.3475 - val_accuracy: 0.9021\n",
            "Epoch 7/10\n",
            "329/329 [==============================] - 1s 4ms/step - loss: 0.4991 - accuracy: 0.8501 - val_loss: 0.3257 - val_accuracy: 0.9071\n",
            "Epoch 8/10\n",
            "329/329 [==============================] - 1s 4ms/step - loss: 0.4744 - accuracy: 0.8573 - val_loss: 0.3090 - val_accuracy: 0.9101\n",
            "Epoch 9/10\n",
            "329/329 [==============================] - 1s 4ms/step - loss: 0.4353 - accuracy: 0.8703 - val_loss: 0.2958 - val_accuracy: 0.9143\n",
            "Epoch 10/10\n",
            "329/329 [==============================] - 1s 4ms/step - loss: 0.4269 - accuracy: 0.8739 - val_loss: 0.2837 - val_accuracy: 0.9176\n"
          ],
          "name": "stdout"
        }
      ]
    },
    {
      "cell_type": "code",
      "metadata": {
        "colab": {
          "base_uri": "https://localhost:8080/",
          "height": 312
        },
        "id": "9356a2f2",
        "outputId": "59df1531-a360-4f73-ba15-7bbac86e3373"
      },
      "source": [
        "_,acc2 = model2.evaluate(test[\"x\"],test[\"y\"],batch_size = batch_Size, verbose=0)\n",
        "print(\"Test accuracy: \",acc2*100)\n",
        "loss_plot(history1,10)"
      ],
      "id": "9356a2f2",
      "execution_count": 19,
      "outputs": [
        {
          "output_type": "stream",
          "text": [
            "Test accuracy:  92.00999736785889\n"
          ],
          "name": "stdout"
        },
        {
          "output_type": "display_data",
          "data": {
            "image/png": "[encoded data removed]",
            "text/plain": [
              "<Figure size 432x288 with 1 Axes>"
            ]
          },
          "metadata": {
            "tags": [],
            "needs_background": "light"
          }
        }
      ]
    },
    {
      "cell_type": "markdown",
      "metadata": {
        "id": "oMzcnIvGyBz5"
      },
      "source": [
        ""
      ],
      "id": "oMzcnIvGyBz5"
    },
    {
      "cell_type": "markdown",
      "metadata": {
        "id": "cM9ffHIfyEvE"
      },
      "source": [
        "# **Uniform weight initialization**"
      ],
      "id": "cM9ffHIfyEvE"
    },
    {
      "cell_type": "code",
      "metadata": {
        "colab": {
          "base_uri": "https://localhost:8080/"
        },
        "id": "1b45dfe2",
        "outputId": "96a6f689-f66c-47e2-d70d-d7cf31117fce"
      },
      "source": [
        "obj1 = ANN()\n",
        "input_dim=train[\"x\"].shape[1]\n",
        "model2=obj1.MLP(input_dim,'uniform')\n",
        "loss_1='categorical_crossentropy'\n",
        "opt=SGD(momentum = 0.0)\n",
        "model2.compile(loss=loss_1, optimizer=opt, metrics=['accuracy'])\n",
        "history1 = model2.fit(train[\"x\"], train[\"y\"], epochs = 10, batch_size = 128, validation_data = (valid[\"x\"],valid[\"y\"]))"
      ],
      "id": "1b45dfe2",
      "execution_count": 20,
      "outputs": [
        {
          "output_type": "stream",
          "text": [
            "Epoch 1/10\n",
            "329/329 [==============================] - 2s 4ms/step - loss: 2.1839 - accuracy: 0.2540 - val_loss: 1.4337 - val_accuracy: 0.7537\n",
            "Epoch 2/10\n",
            "329/329 [==============================] - 1s 4ms/step - loss: 1.3320 - accuracy: 0.6376 - val_loss: 0.7136 - val_accuracy: 0.8353\n",
            "Epoch 3/10\n",
            "329/329 [==============================] - 1s 4ms/step - loss: 0.8406 - accuracy: 0.7425 - val_loss: 0.5325 - val_accuracy: 0.8639\n",
            "Epoch 4/10\n",
            "329/329 [==============================] - 1s 4ms/step - loss: 0.6726 - accuracy: 0.7949 - val_loss: 0.4516 - val_accuracy: 0.8801\n",
            "Epoch 5/10\n",
            "329/329 [==============================] - 1s 4ms/step - loss: 0.5812 - accuracy: 0.8236 - val_loss: 0.4057 - val_accuracy: 0.8899\n",
            "Epoch 6/10\n",
            "329/329 [==============================] - 1s 4ms/step - loss: 0.5292 - accuracy: 0.8411 - val_loss: 0.3729 - val_accuracy: 0.8970\n",
            "Epoch 7/10\n",
            "329/329 [==============================] - 1s 4ms/step - loss: 0.4911 - accuracy: 0.8543 - val_loss: 0.3498 - val_accuracy: 0.9016\n",
            "Epoch 8/10\n",
            "329/329 [==============================] - 1s 4ms/step - loss: 0.4592 - accuracy: 0.8646 - val_loss: 0.3300 - val_accuracy: 0.9064\n",
            "Epoch 9/10\n",
            "329/329 [==============================] - 1s 3ms/step - loss: 0.4388 - accuracy: 0.8720 - val_loss: 0.3143 - val_accuracy: 0.9106\n",
            "Epoch 10/10\n",
            "329/329 [==============================] - 1s 4ms/step - loss: 0.4161 - accuracy: 0.8772 - val_loss: 0.2992 - val_accuracy: 0.9154\n"
          ],
          "name": "stdout"
        }
      ]
    },
    {
      "cell_type": "code",
      "metadata": {
        "colab": {
          "base_uri": "https://localhost:8080/",
          "height": 312
        },
        "id": "c55ea3e7",
        "outputId": "e65eac62-449b-4fee-8f94-3138fda49889"
      },
      "source": [
        "_,acc2 = model2.evaluate(test[\"x\"],test[\"y\"],batch_size = batch_Size, verbose=0)\n",
        "print(\"Test accuracy: \",acc2*100)\n",
        "loss_plot(history1,10)"
      ],
      "id": "c55ea3e7",
      "execution_count": 21,
      "outputs": [
        {
          "output_type": "stream",
          "text": [
            "Test accuracy:  91.76999926567078\n"
          ],
          "name": "stdout"
        },
        {
          "output_type": "display_data",
          "data": {
            "image/png": "[encoded data removed]",
            "text/plain": [
              "<Figure size 432x288 with 1 Axes>"
            ]
          },
          "metadata": {
            "tags": [],
            "needs_background": "light"
          }
        }
      ]
    },
    {
      "cell_type": "markdown",
      "metadata": {
        "id": "HpZ1PmUjyI_N"
      },
      "source": [
        "# **Normal weight initialization**"
      ],
      "id": "HpZ1PmUjyI_N"
    },
    {
      "cell_type": "code",
      "metadata": {
        "colab": {
          "base_uri": "https://localhost:8080/"
        },
        "id": "3324dc3a",
        "outputId": "1bfa0e21-e6ee-4bc1-8386-85df1f6d0deb"
      },
      "source": [
        "obj1 = ANN()\n",
        "input_dim=train[\"x\"].shape[1]\n",
        "model2=obj1.MLP(input_dim,'normal')\n",
        "loss_1='categorical_crossentropy'\n",
        "opt=SGD(momentum = 0.0)\n",
        "model2.compile(loss=loss_1, optimizer=opt, metrics=['accuracy'])\n",
        "history1 = model2.fit(train[\"x\"], train[\"y\"], epochs = 10, batch_size = 128, validation_data = (valid[\"x\"],valid[\"y\"]))"
      ],
      "id": "3324dc3a",
      "execution_count": 22,
      "outputs": [
        {
          "output_type": "stream",
          "text": [
            "Epoch 1/10\n",
            "329/329 [==============================] - 2s 4ms/step - loss: 2.1156 - accuracy: 0.2535 - val_loss: 1.1034 - val_accuracy: 0.7876\n",
            "Epoch 2/10\n",
            "329/329 [==============================] - 1s 4ms/step - loss: 1.1798 - accuracy: 0.6452 - val_loss: 0.6305 - val_accuracy: 0.8428\n",
            "Epoch 3/10\n",
            "329/329 [==============================] - 1s 4ms/step - loss: 0.8233 - accuracy: 0.7414 - val_loss: 0.4953 - val_accuracy: 0.8664\n",
            "Epoch 4/10\n",
            "329/329 [==============================] - 1s 4ms/step - loss: 0.6876 - accuracy: 0.7873 - val_loss: 0.4284 - val_accuracy: 0.8816\n",
            "Epoch 5/10\n",
            "329/329 [==============================] - 1s 4ms/step - loss: 0.6144 - accuracy: 0.8078 - val_loss: 0.3861 - val_accuracy: 0.8921\n",
            "Epoch 6/10\n",
            "329/329 [==============================] - 1s 4ms/step - loss: 0.5562 - accuracy: 0.8324 - val_loss: 0.3573 - val_accuracy: 0.8986\n",
            "Epoch 7/10\n",
            "329/329 [==============================] - 1s 4ms/step - loss: 0.5158 - accuracy: 0.8451 - val_loss: 0.3344 - val_accuracy: 0.9046\n",
            "Epoch 8/10\n",
            "329/329 [==============================] - 1s 3ms/step - loss: 0.4801 - accuracy: 0.8563 - val_loss: 0.3164 - val_accuracy: 0.9076\n",
            "Epoch 9/10\n",
            "329/329 [==============================] - 1s 4ms/step - loss: 0.4488 - accuracy: 0.8654 - val_loss: 0.3019 - val_accuracy: 0.9122\n",
            "Epoch 10/10\n",
            "329/329 [==============================] - 1s 4ms/step - loss: 0.4388 - accuracy: 0.8699 - val_loss: 0.2901 - val_accuracy: 0.9151\n"
          ],
          "name": "stdout"
        }
      ]
    },
    {
      "cell_type": "code",
      "metadata": {
        "colab": {
          "base_uri": "https://localhost:8080/",
          "height": 312
        },
        "id": "b63c2c6e",
        "outputId": "fcf743ac-3b70-4c73-af75-f0dd1c34059b"
      },
      "source": [
        "_,acc2 = model2.evaluate(test[\"x\"],test[\"y\"],batch_size = batch_Size, verbose=0)\n",
        "print(\"Test accuracy: \",acc2*100)\n",
        "loss_plot(history1,10)"
      ],
      "id": "b63c2c6e",
      "execution_count": 23,
      "outputs": [
        {
          "output_type": "stream",
          "text": [
            "Test accuracy:  91.89000129699707\n"
          ],
          "name": "stdout"
        },
        {
          "output_type": "display_data",
          "data": {
            "image/png": "[encoded data removed]",
            "text/plain": [
              "<Figure size 432x288 with 1 Axes>"
            ]
          },
          "metadata": {
            "tags": [],
            "needs_background": "light"
          }
        }
      ]
    },
    {
      "cell_type": "markdown",
      "metadata": {
        "id": "c95a0de6"
      },
      "source": [
        "## 3. different learning rates and performing exponential annealing on the learning rate."
      ],
      "id": "c95a0de6"
    },
    {
      "cell_type": "markdown",
      "metadata": {
        "id": "5e5cd55a"
      },
      "source": [
        "### 3.(a) learning rates and exponential annealing"
      ],
      "id": "5e5cd55a"
    },
    {
      "cell_type": "code",
      "metadata": {
        "id": "9fcf4091"
      },
      "source": [
        "learning_rates =  [0.1, 0.01, 0.001]\n",
        "exponential_loss = {}\n",
        "history_3a = {}\n",
        "models_3a = {}"
      ],
      "id": "9fcf4091",
      "execution_count": 25,
      "outputs": []
    },
    {
      "cell_type": "code",
      "metadata": {
        "colab": {
          "base_uri": "https://localhost:8080/"
        },
        "id": "7506e5cd",
        "outputId": "d90e4b35-d598-4fbd-de8e-f6cb634454b0"
      },
      "source": [
        "lr_schedule = ExponentialDecay(0.1, decay_steps=100000, decay_rate=0.96, staircase=True)\n",
        "opt = keras.optimizers.Adam(learning_rate=lr_schedule)\n",
        "obj1=ANN()\n",
        "input_dim=train[\"x\"].shape[1]\n",
        "model = obj1.MLP(input_dim)\n",
        "model.compile(loss='categorical_crossentropy', optimizer=opt,metrics=['accuracy'])\n",
        "history = model.fit(train[\"x\"],train[\"y\"],epochs = 5, batch_size = batch_Size,validation_data = (valid[\"x\"], valid[\"y\"]))\n",
        "models_3a[\"0.1\"]=model\n",
        "history_3a[\"0.1\"]=history\n",
        "exponential_loss[\"0.1\"]=model.history.history['loss']\n",
        "_, accr = models_3a[\"0.1\"].evaluate(test[\"x\"],test[\"y\"],batch_size = batch_Size, verbose=0)\n",
        "print(\"For Learning Rate = 0.1\")\n",
        "print()\n",
        "print(\"Test accuracy when encoded data is used as input: \",accr*100)"
      ],
      "id": "7506e5cd",
      "execution_count": 26,
      "outputs": [
        {
          "output_type": "stream",
          "text": [
            "Epoch 1/5\n",
            "329/329 [==============================] - 2s 4ms/step - loss: 6.4894 - accuracy: 0.1641 - val_loss: 2.1671 - val_accuracy: 0.1549\n",
            "Epoch 2/5\n",
            "329/329 [==============================] - 1s 4ms/step - loss: 2.2561 - accuracy: 0.1285 - val_loss: 2.3266 - val_accuracy: 0.1838\n",
            "Epoch 3/5\n",
            "329/329 [==============================] - 1s 4ms/step - loss: 2.3023 - accuracy: 0.1291 - val_loss: 2.1736 - val_accuracy: 0.1601\n",
            "Epoch 4/5\n",
            "329/329 [==============================] - 1s 4ms/step - loss: 2.3397 - accuracy: 0.1319 - val_loss: 2.3076 - val_accuracy: 0.1108\n",
            "Epoch 5/5\n",
            "329/329 [==============================] - 1s 4ms/step - loss: 2.3076 - accuracy: 0.1064 - val_loss: 2.3099 - val_accuracy: 0.0993\n",
            "For Learning Rate = 0.1\n",
            "\n",
            "Test accuracy when encoded data is used as input:  9.589999914169312\n"
          ],
          "name": "stdout"
        }
      ]
    },
    {
      "cell_type": "code",
      "metadata": {
        "colab": {
          "base_uri": "https://localhost:8080/"
        },
        "id": "33fb43f6",
        "outputId": "639b2682-e12f-4427-ef1e-27ba3be9f87c"
      },
      "source": [
        "lr_schedule = ExponentialDecay(0.01, decay_steps=100000, decay_rate=0.96, staircase=True)\n",
        "opt = keras.optimizers.Adam(learning_rate=lr_schedule)\n",
        "obj1=ANN()\n",
        "input_dim=train[\"x\"].shape[1]\n",
        "model = obj1.MLP(input_dim)\n",
        "model.compile(loss='categorical_crossentropy', optimizer=opt,metrics=['accuracy'])\n",
        "history = model.fit(train[\"x\"],train[\"y\"],epochs = 5, batch_size = batch_Size,validation_data = (valid[\"x\"], valid[\"y\"]))\n",
        "models_3a[\"0.01\"]=model\n",
        "history_3a[\"0.01\"]=history\n",
        "exponential_loss[\"0.01\"]=model.history.history['loss']\n",
        "_, accr = models_3a[\"0.01\"].evaluate(test[\"x\"],test[\"y\"],batch_size = batch_Size, verbose=0)\n",
        "print(\"For Learning Rate = 0.01\")\n",
        "print()\n",
        "print(\"Test accuracy when encoded data is used as input: \",accr*100)"
      ],
      "id": "33fb43f6",
      "execution_count": 27,
      "outputs": [
        {
          "output_type": "stream",
          "text": [
            "Epoch 1/5\n",
            "329/329 [==============================] - 2s 5ms/step - loss: 0.7328 - accuracy: 0.7710 - val_loss: 0.2359 - val_accuracy: 0.9387\n",
            "Epoch 2/5\n",
            "329/329 [==============================] - 1s 4ms/step - loss: 0.4014 - accuracy: 0.8897 - val_loss: 0.1931 - val_accuracy: 0.9484\n",
            "Epoch 3/5\n",
            "329/329 [==============================] - 1s 4ms/step - loss: 0.3586 - accuracy: 0.9050 - val_loss: 0.2007 - val_accuracy: 0.9464\n",
            "Epoch 4/5\n",
            "329/329 [==============================] - 1s 4ms/step - loss: 0.3705 - accuracy: 0.9030 - val_loss: 0.2020 - val_accuracy: 0.9469\n",
            "Epoch 5/5\n",
            "329/329 [==============================] - 1s 4ms/step - loss: 0.3477 - accuracy: 0.9096 - val_loss: 0.2163 - val_accuracy: 0.9442\n",
            "For Learning Rate = 0.01\n",
            "\n",
            "Test accuracy when encoded data is used as input:  94.7700023651123\n"
          ],
          "name": "stdout"
        }
      ]
    },
    {
      "cell_type": "code",
      "metadata": {
        "colab": {
          "base_uri": "https://localhost:8080/"
        },
        "id": "760f0c40",
        "outputId": "79016b02-b5b3-40da-9c9c-dccf7e3bbd2e"
      },
      "source": [
        "lr_schedule = ExponentialDecay(0.001, decay_steps=100000, decay_rate=0.96, staircase=True)\n",
        "opt = keras.optimizers.Adam(learning_rate=lr_schedule)\n",
        "obj1=ANN()\n",
        "input_dim=train[\"x\"].shape[1]\n",
        "model = obj1.MLP(input_dim)\n",
        "model.compile(loss='categorical_crossentropy', optimizer=opt,metrics=['accuracy'])\n",
        "history = model.fit(train[\"x\"],train[\"y\"],epochs = 5, batch_size = batch_Size,validation_data = (valid[\"x\"], valid[\"y\"]))\n",
        "models_3a[\"0.001\"]=model\n",
        "history_3a[\"0.001\"]=history\n",
        "exponential_loss[\"0.001\"]=model.history.history['loss']\n",
        "_, accr = models_3a[\"0.001\"].evaluate(test[\"x\"],test[\"y\"],batch_size = batch_Size, verbose=0)\n",
        "print(\"For Learning Rate = 0.001\")\n",
        "print()\n",
        "print(\"Test accuracy when encoded data is used as input: \",accr*100)"
      ],
      "id": "760f0c40",
      "execution_count": 28,
      "outputs": [
        {
          "output_type": "stream",
          "text": [
            "Epoch 1/5\n",
            "329/329 [==============================] - 2s 4ms/step - loss: 0.8496 - accuracy: 0.7225 - val_loss: 0.1868 - val_accuracy: 0.9447\n",
            "Epoch 2/5\n",
            "329/329 [==============================] - 1s 4ms/step - loss: 0.2544 - accuracy: 0.9246 - val_loss: 0.1374 - val_accuracy: 0.9599\n",
            "Epoch 3/5\n",
            "329/329 [==============================] - 1s 4ms/step - loss: 0.1823 - accuracy: 0.9441 - val_loss: 0.1169 - val_accuracy: 0.9653\n",
            "Epoch 4/5\n",
            "329/329 [==============================] - 1s 4ms/step - loss: 0.1488 - accuracy: 0.9554 - val_loss: 0.1008 - val_accuracy: 0.9708\n",
            "Epoch 5/5\n",
            "329/329 [==============================] - 1s 4ms/step - loss: 0.1306 - accuracy: 0.9591 - val_loss: 0.0972 - val_accuracy: 0.9709\n",
            "For Learning Rate = 0.001\n",
            "\n",
            "Test accuracy when encoded data is used as input:  97.14999794960022\n"
          ],
          "name": "stdout"
        }
      ]
    },
    {
      "cell_type": "markdown",
      "metadata": {
        "id": "a04fe079"
      },
      "source": [
        "# part 2"
      ],
      "id": "a04fe079"
    },
    {
      "cell_type": "markdown",
      "metadata": {
        "id": "c223956d"
      },
      "source": [
        "## MLP and autoencoder"
      ],
      "id": "c223956d"
    },
    {
      "cell_type": "code",
      "metadata": {
        "colab": {
          "base_uri": "https://localhost:8080/"
        },
        "id": "b3354a4f",
        "outputId": "3d53396a-671e-4cc8-95d0-9c8060001329"
      },
      "source": [
        "train,test={},{}\n",
        "(train[\"x\"], train[\"y\"]), (test[\"x\"], test[\"y\"]) = mnist.load_data()\n",
        "input_shape=train[\"x\"].shape[1:]\n",
        "train[\"x\"]=train[\"x\"].reshape(train[\"x\"].shape[0],train[\"x\"].shape[1],train[\"x\"].shape[2],1)\n",
        "test[\"x\"]=test[\"x\"].reshape(test[\"x\"].shape[0],test[\"x\"].shape[1],test[\"x\"].shape[2],1)\n",
        "train[\"y\"]=to_categorical(train[\"y\"])\n",
        "test[\"y\"]=to_categorical(test[\"y\"])\n",
        "train[\"x\"] = train[\"x\"].astype('float32')\n",
        "test[\"x\"] = test[\"x\"].astype('float32')\n",
        "train[\"x\"] = train[\"x\"] / 255.0\n",
        "test[\"x\"] = test[\"x\"] / 255.0\n",
        "train[\"x\"], valid[\"x\"], train[\"y\"], valid[\"y\"]=train_test_split(train[\"x\"], train[\"y\"], test_size=0.3, random_state=42)\n",
        "print(train[\"x\"].shape)\n",
        "print(test[\"x\"].shape)\n",
        "print(train[\"y\"].shape)\n",
        "print(test[\"y\"].shape)\n",
        "print(valid[\"x\"].shape)\n",
        "print(valid[\"y\"].shape)"
      ],
      "id": "b3354a4f",
      "execution_count": 41,
      "outputs": [
        {
          "output_type": "stream",
          "text": [
            "(42000, 28, 28, 1)\n",
            "(10000, 28, 28, 1)\n",
            "(42000, 10)\n",
            "(10000, 10)\n",
            "(18000, 28, 28, 1)\n",
            "(18000, 10)\n"
          ],
          "name": "stdout"
        }
      ]
    },
    {
      "cell_type": "code",
      "metadata": {
        "id": "435c7475"
      },
      "source": [
        "class AutoEncoder(Model):\n",
        "    def __init__(self):\n",
        "        super(AutoEncoder, self).__init__()\n",
        "        # Encoder of the Auto-encoder\n",
        "        self.encoder = keras.models.Sequential()\n",
        "        self.encoder.add(layers.Input(shape=(28, 28, 1)))\n",
        "        self.encoder.add(layers.Conv2D(8, kernel_size=(3, 3), activation='relu', input_shape=input_shape))\n",
        "        self.encoder.add(layers.Conv2D(2, kernel_size=(3, 3), activation='relu'))\n",
        "        \n",
        "        self.decoder = keras.models.Sequential()\n",
        "        self.decoder.add(layers.Conv2DTranspose(2, kernel_size=(3,3), activation='relu'))  \n",
        "        self.decoder.add(layers.Conv2DTranspose(8, kernel_size=(3,3), activation='relu'),)\n",
        "        self.decoder.add(layers.Conv2D(1, kernel_size=(3, 3), activation='sigmoid', padding='same'))\n",
        "        \n",
        "        \n",
        "    def call(self, x):\n",
        "        encoded = self.encoder(x)\n",
        "        decoded = self.decoder(encoded)\n",
        "        return decoded\n",
        "\n"
      ],
      "id": "435c7475",
      "execution_count": 42,
      "outputs": []
    },
    {
      "cell_type": "code",
      "metadata": {
        "colab": {
          "base_uri": "https://localhost:8080/"
        },
        "id": "90af0105",
        "outputId": "2d3a500a-14dc-4d3f-f945-fbce753f89f9"
      },
      "source": [
        "ae = AutoEncoder()\n",
        "ae.compile(optimizer='adam', loss=losses.MeanSquaredError())\n",
        "ae.fit(train[\"x\"], train[\"x\"],epochs=20,batch_size=64,validation_data=(valid[\"x\"],valid[\"x\"]))"
      ],
      "id": "90af0105",
      "execution_count": 43,
      "outputs": [
        {
          "output_type": "stream",
          "text": [
            "Epoch 1/20\n",
            "657/657 [==============================] - 3s 4ms/step - loss: 0.0799 - val_loss: 0.0014\n",
            "Epoch 2/20\n",
            "657/657 [==============================] - 2s 4ms/step - loss: 0.0012 - val_loss: 8.2568e-04\n",
            "Epoch 3/20\n",
            "657/657 [==============================] - 2s 3ms/step - loss: 7.8948e-04 - val_loss: 6.4855e-04\n",
            "Epoch 4/20\n",
            "657/657 [==============================] - 2s 3ms/step - loss: 6.2837e-04 - val_loss: 5.5929e-04\n",
            "Epoch 5/20\n",
            "657/657 [==============================] - 2s 4ms/step - loss: 5.3947e-04 - val_loss: 4.8588e-04\n",
            "Epoch 6/20\n",
            "657/657 [==============================] - 2s 3ms/step - loss: 4.8362e-04 - val_loss: 4.4587e-04\n",
            "Epoch 7/20\n",
            "657/657 [==============================] - 2s 4ms/step - loss: 4.4055e-04 - val_loss: 4.1954e-04\n",
            "Epoch 8/20\n",
            "657/657 [==============================] - 2s 4ms/step - loss: 4.1874e-04 - val_loss: 3.9647e-04\n",
            "Epoch 9/20\n",
            "657/657 [==============================] - 2s 4ms/step - loss: 3.9623e-04 - val_loss: 3.9629e-04\n",
            "Epoch 10/20\n",
            "657/657 [==============================] - 2s 3ms/step - loss: 3.7746e-04 - val_loss: 3.5759e-04\n",
            "Epoch 11/20\n",
            "657/657 [==============================] - 2s 3ms/step - loss: 3.6470e-04 - val_loss: 3.5049e-04\n",
            "Epoch 12/20\n",
            "657/657 [==============================] - 2s 3ms/step - loss: 3.5155e-04 - val_loss: 3.2956e-04\n",
            "Epoch 13/20\n",
            "657/657 [==============================] - 2s 3ms/step - loss: 3.3350e-04 - val_loss: 3.4858e-04\n",
            "Epoch 14/20\n",
            "657/657 [==============================] - 2s 4ms/step - loss: 3.2377e-04 - val_loss: 3.0858e-04\n",
            "Epoch 15/20\n",
            "657/657 [==============================] - 2s 4ms/step - loss: 3.1689e-04 - val_loss: 3.0258e-04\n",
            "Epoch 16/20\n",
            "657/657 [==============================] - 2s 4ms/step - loss: 3.0639e-04 - val_loss: 3.3167e-04\n",
            "Epoch 17/20\n",
            "657/657 [==============================] - 2s 3ms/step - loss: 3.0025e-04 - val_loss: 2.9446e-04\n",
            "Epoch 18/20\n",
            "657/657 [==============================] - 2s 3ms/step - loss: 2.9366e-04 - val_loss: 2.8256e-04\n",
            "Epoch 19/20\n",
            "657/657 [==============================] - 2s 4ms/step - loss: 2.9019e-04 - val_loss: 2.7779e-04\n",
            "Epoch 20/20\n",
            "657/657 [==============================] - 2s 4ms/step - loss: 2.8231e-04 - val_loss: 2.7362e-04\n"
          ],
          "name": "stdout"
        },
        {
          "output_type": "execute_result",
          "data": {
            "text/plain": [
              "<tensorflow.python.keras.callbacks.History at 0x7f01104ea2d0>"
            ]
          },
          "metadata": {
            "tags": []
          },
          "execution_count": 43
        }
      ]
    },
    {
      "cell_type": "code",
      "metadata": {
        "id": "1dea7519"
      },
      "source": [
        "encoded_data_train = ae.encoder(train[\"x\"]).numpy()\n",
        "encoded_data_valid = ae.encoder(valid[\"x\"]).numpy()\n",
        "encoded_data_test = ae.encoder(test[\"x\"]).numpy()"
      ],
      "id": "1dea7519",
      "execution_count": 44,
      "outputs": []
    },
    {
      "cell_type": "code",
      "metadata": {
        "colab": {
          "base_uri": "https://localhost:8080/"
        },
        "id": "Nq7gYxDvnhlW",
        "outputId": "344cbe00-2a73-4ec7-fb13-0a4041eefe77"
      },
      "source": [
        "train_X=encoded_data_train.reshape(encoded_data_train.shape[0],encoded_data_train.shape[1]*encoded_data_train.shape[2]*encoded_data_train.shape[3])\n",
        "valid_X=encoded_data_valid.reshape(encoded_data_valid.shape[0],encoded_data_valid.shape[1]*encoded_data_valid.shape[2]*encoded_data_valid.shape[3])\n",
        "test_X=encoded_data_test.reshape(encoded_data_test.shape[0],encoded_data_test.shape[1]*encoded_data_test.shape[2]*encoded_data_test.shape[3])\n",
        "print(train_X.shape)\n",
        "print(test_X.shape)\n",
        "print(valid_X.shape)\n",
        "print(valid[\"y\"].shape)\n",
        "print(train[\"y\"].shape)\n",
        "print(test[\"y\"].shape)"
      ],
      "id": "Nq7gYxDvnhlW",
      "execution_count": 45,
      "outputs": [
        {
          "output_type": "stream",
          "text": [
            "(42000, 1152)\n",
            "(10000, 1152)\n",
            "(18000, 1152)\n",
            "(18000, 10)\n",
            "(42000, 10)\n",
            "(10000, 10)\n"
          ],
          "name": "stdout"
        }
      ]
    },
    {
      "cell_type": "code",
      "metadata": {
        "id": "kPHZDkL9rpLg"
      },
      "source": [
        ""
      ],
      "id": "kPHZDkL9rpLg",
      "execution_count": null,
      "outputs": []
    },
    {
      "cell_type": "code",
      "metadata": {
        "colab": {
          "base_uri": "https://localhost:8080/"
        },
        "id": "991216e5",
        "outputId": "126c8228-ea44-4c69-d699-7cb0fd72ba74"
      },
      "source": [
        "obj1 = ANN()\n",
        "input_dim=train_X.shape[1]\n",
        "model2=obj1.MLP(input_dim)\n",
        "loss_1='categorical_crossentropy'\n",
        "opt='adam'\n",
        "model2.compile(loss=loss_1, optimizer=opt, metrics=['accuracy'])\n",
        "history1 = model2.fit(train_X, train[\"y\"], epochs = 10, batch_size = 128, validation_data = (valid_X,valid[\"y\"]))"
      ],
      "id": "991216e5",
      "execution_count": 46,
      "outputs": [
        {
          "output_type": "stream",
          "text": [
            "Epoch 1/10\n",
            "329/329 [==============================] - 2s 4ms/step - loss: 0.8421 - accuracy: 0.7222 - val_loss: 0.2051 - val_accuracy: 0.9361\n",
            "Epoch 2/10\n",
            "329/329 [==============================] - 1s 4ms/step - loss: 0.3019 - accuracy: 0.9062 - val_loss: 0.1524 - val_accuracy: 0.9546\n",
            "Epoch 3/10\n",
            "329/329 [==============================] - 1s 4ms/step - loss: 0.2294 - accuracy: 0.9303 - val_loss: 0.1329 - val_accuracy: 0.9592\n",
            "Epoch 4/10\n",
            "329/329 [==============================] - 1s 4ms/step - loss: 0.2003 - accuracy: 0.9369 - val_loss: 0.1267 - val_accuracy: 0.9622\n",
            "Epoch 5/10\n",
            "329/329 [==============================] - 1s 4ms/step - loss: 0.1893 - accuracy: 0.9428 - val_loss: 0.1154 - val_accuracy: 0.9645\n",
            "Epoch 6/10\n",
            "329/329 [==============================] - 1s 4ms/step - loss: 0.1631 - accuracy: 0.9487 - val_loss: 0.1047 - val_accuracy: 0.9682\n",
            "Epoch 7/10\n",
            "329/329 [==============================] - 1s 4ms/step - loss: 0.1558 - accuracy: 0.9516 - val_loss: 0.1067 - val_accuracy: 0.9678\n",
            "Epoch 8/10\n",
            "329/329 [==============================] - 1s 4ms/step - loss: 0.1446 - accuracy: 0.9553 - val_loss: 0.0987 - val_accuracy: 0.9702\n",
            "Epoch 9/10\n",
            "329/329 [==============================] - 1s 4ms/step - loss: 0.1388 - accuracy: 0.9572 - val_loss: 0.0959 - val_accuracy: 0.9722\n",
            "Epoch 10/10\n",
            "329/329 [==============================] - 1s 4ms/step - loss: 0.1301 - accuracy: 0.9600 - val_loss: 0.0887 - val_accuracy: 0.9732\n"
          ],
          "name": "stdout"
        }
      ]
    },
    {
      "cell_type": "code",
      "metadata": {
        "colab": {
          "base_uri": "https://localhost:8080/"
        },
        "id": "0477531b",
        "outputId": "39c3061a-0458-4709-8510-557011ad030a"
      },
      "source": [
        "_, accp2 = model2.evaluate(test_X,test[\"y\"],batch_size = batch_Size, verbose=0)\n",
        "print(\"Test accuracy when encoded data is used as input: \",accp2*100)"
      ],
      "id": "0477531b",
      "execution_count": 47,
      "outputs": [
        {
          "output_type": "stream",
          "text": [
            "Test accuracy when encoded data is used as input:  97.54999876022339\n"
          ],
          "name": "stdout"
        }
      ]
    },
    {
      "cell_type": "code",
      "metadata": {
        "colab": {
          "base_uri": "https://localhost:8080/"
        },
        "id": "800b0e3b",
        "outputId": "ff1916db-c8d7-4b00-b1a5-9c0f117efcda"
      },
      "source": [
        "train,test={},{}\n",
        "(train[\"x\"], train[\"y\"]), (test[\"x\"], test[\"y\"]) = mnist.load_data()\n",
        "train[\"y\"] = to_categorical(train[\"y\"])\n",
        "test[\"y\"] = to_categorical(test[\"y\"])\n",
        "input_size = train[\"x\"].shape[1]*train[\"x\"].shape[1]\n",
        "train[\"x\"] = np.reshape(train[\"x\"],[-1,input_size])\n",
        "test[\"x\"] = np.reshape(test[\"x\"],[-1,input_size])\n",
        "train[\"x\"] = train[\"x\"].astype('float32')/255\n",
        "test[\"x\"] = test[\"x\"].astype('float32')/255\n",
        "train[\"x\"], valid[\"x\"], train[\"y\"], valid[\"y\"]=train_test_split(train[\"x\"], train[\"y\"], test_size=0.3, random_state=42)\n",
        "obj = ANN()\n",
        "input_dim=train[\"x\"].shape[1]\n",
        "model1=obj.MLP(input_dim)\n",
        "loss_1='categorical_crossentropy'\n",
        "opt='adam'\n",
        "model1.compile(loss=loss_1, optimizer=opt, metrics=['accuracy'])\n",
        "history1 = model1.fit(train[\"x\"],train[\"y\"],epochs = 10, batch_size = batch_Size, validation_data = (valid[\"x\"],valid[\"y\"]))"
      ],
      "id": "800b0e3b",
      "execution_count": 38,
      "outputs": [
        {
          "output_type": "stream",
          "text": [
            "Epoch 1/10\n",
            "329/329 [==============================] - 2s 4ms/step - loss: 0.8242 - accuracy: 0.7387 - val_loss: 0.1884 - val_accuracy: 0.9432\n",
            "Epoch 2/10\n",
            "329/329 [==============================] - 1s 4ms/step - loss: 0.2381 - accuracy: 0.9291 - val_loss: 0.1354 - val_accuracy: 0.9588\n",
            "Epoch 3/10\n",
            "329/329 [==============================] - 1s 4ms/step - loss: 0.1784 - accuracy: 0.9443 - val_loss: 0.1142 - val_accuracy: 0.9656\n",
            "Epoch 4/10\n",
            "329/329 [==============================] - 1s 4ms/step - loss: 0.1490 - accuracy: 0.9559 - val_loss: 0.1011 - val_accuracy: 0.9704\n",
            "Epoch 5/10\n",
            "329/329 [==============================] - 1s 4ms/step - loss: 0.1276 - accuracy: 0.9615 - val_loss: 0.0967 - val_accuracy: 0.9711\n",
            "Epoch 6/10\n",
            "329/329 [==============================] - 1s 4ms/step - loss: 0.1104 - accuracy: 0.9657 - val_loss: 0.0882 - val_accuracy: 0.9734\n",
            "Epoch 7/10\n",
            "329/329 [==============================] - 1s 4ms/step - loss: 0.1027 - accuracy: 0.9696 - val_loss: 0.0873 - val_accuracy: 0.9739\n",
            "Epoch 8/10\n",
            "329/329 [==============================] - 1s 4ms/step - loss: 0.0908 - accuracy: 0.9730 - val_loss: 0.0808 - val_accuracy: 0.9756\n",
            "Epoch 9/10\n",
            "329/329 [==============================] - 1s 4ms/step - loss: 0.0857 - accuracy: 0.9739 - val_loss: 0.0894 - val_accuracy: 0.9733\n",
            "Epoch 10/10\n",
            "329/329 [==============================] - 1s 4ms/step - loss: 0.0812 - accuracy: 0.9748 - val_loss: 0.0819 - val_accuracy: 0.9757\n"
          ],
          "name": "stdout"
        }
      ]
    },
    {
      "cell_type": "code",
      "metadata": {
        "colab": {
          "base_uri": "https://localhost:8080/"
        },
        "id": "de6397d8",
        "outputId": "ada8d596-9410-4414-f8cb-50f0c51a7a79"
      },
      "source": [
        "_,acc1 = model1.evaluate(test[\"x\"],test[\"y\"],batch_size = 128, verbose=0)\n",
        "print(\"Test accuracy on raw data: \",acc1*100)"
      ],
      "id": "de6397d8",
      "execution_count": 39,
      "outputs": [
        {
          "output_type": "stream",
          "text": [
            "Test accuracy on raw data:  97.75999784469604\n"
          ],
          "name": "stdout"
        }
      ]
    },
    {
      "cell_type": "markdown",
      "metadata": {
        "id": "hIO39fx_z02e"
      },
      "source": [
        "# **Compare both the accuracy scores.**"
      ],
      "id": "hIO39fx_z02e"
    },
    {
      "cell_type": "code",
      "metadata": {
        "colab": {
          "base_uri": "https://localhost:8080/"
        },
        "id": "ZLha_-_XR9gU",
        "outputId": "e1a1bc63-2cb2-4a36-d828-2f2452a99583"
      },
      "source": [
        "table = [['MODEL', 'ACCURACY'], ['When raw data is used as input',str(acc1*100)+\"%\"], ['When encoded data is used as input',str(accp2*100)+\"%\"]]\n",
        "from tabulate import tabulate\n",
        "print(tabulate(table, headers='firstrow'))"
      ],
      "id": "ZLha_-_XR9gU",
      "execution_count": 51,
      "outputs": [
        {
          "output_type": "stream",
          "text": [
            "MODEL                               ACCURACY\n",
            "----------------------------------  ------------------\n",
            "When raw data is used as input      97.75999784469604%\n",
            "When encoded data is used as input  97.54999876022339%\n"
          ],
          "name": "stdout"
        }
      ]
    }
  ]
}