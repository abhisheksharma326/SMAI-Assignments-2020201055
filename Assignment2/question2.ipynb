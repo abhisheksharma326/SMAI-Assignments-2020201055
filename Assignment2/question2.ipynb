{
 "cells": [
  {
   "cell_type": "markdown",
   "metadata": {},
   "source": [
    "You need to implement Logistic Regression from scratch in this question"
   ]
  },
  {
   "cell_type": "markdown",
   "metadata": {},
   "source": [
    "1. You are provided with the dataset of sign language digits. Implement logistic regression from scratch to classify the images provided in the dataset. Load the dataset and perform splitting into training and test sets with 70:30 ratio randomly using test train split.\n",
    "2. Plot a diagram for the sigmoid function. This is used for binary classi\u0000cation. How do you modify it for multilabel dataset classification problems? State and Explain the methods used.\n",
    "3. Use both one vs all and one vs one method for the above problem statement purpose.\n",
    "4. Also get results using Log Reg from scikit learn.\n",
    "5. Report accuracy score, Confusion matrix and any other metrics you feel useful and Compare the results - from all the three.\n",
    "\n",
    "\n",
    "\n",
    "[BONUS]\n",
    "6. Display few pictures with their predicted and original labels \n",
    "7. Do the results differ? State the reasons why it is so.\n"
   ]
  },
  {
   "cell_type": "markdown",
   "metadata": {},
   "source": [
    "dataset link : \n",
    "https://iiitaphyd-my.sharepoint.com/:f:/g/personal/apurva_jadhav_students_iiit_ac_in/Eictt5_qmoxNqezgQQiMWeIBph4sxlfA6jWAJNPnV2SF9Q?e=mQmYN0 \n",
    "\n",
    "                "
   ]
  },
  {
   "cell_type": "code",
   "execution_count": 126,
   "metadata": {},
   "outputs": [],
   "source": [
    "import numpy as np\n",
    "import pandas as pd\n",
    "import random\n",
    "from sklearn import metrics\n",
    "from sklearn.metrics import classification_report,confusion_matrix\n",
    "import random\n",
    "from sklearn.model_selection import train_test_split\n",
    "import matplotlib.pyplot as  plt\n",
    "from sklearn.metrics import mean_squared_error, explained_variance_score,r2_score"
   ]
  },
  {
   "cell_type": "code",
   "execution_count": 127,
   "metadata": {},
   "outputs": [],
   "source": [
    "x_l = np.load(\"X.npy\") # image\n",
    "y_l = np.load(\"Y.npy\") # label\n",
    "X_train,X_test,Y_train,Y_test = train_test_split(x_l,y_l,test_size=0.30, random_state=42)\n",
    "Y_train_label=[np.where(r==1)[0][0] for r in Y_train]\n",
    "Y_train_label=np.array(Y_train_label)\n",
    "Y_test_label=[np.where(r==1)[0][0] for r in Y_test]\n",
    "Y_test_label=np.array(Y_test_label)\n",
    "number_of_train = X_train.shape[0]\n",
    "number_of_test = X_test.shape[0]\n",
    "X_train = X_train.reshape(number_of_train,X_train.shape[1]*X_train.shape[2])\n",
    "X_train = np.c_[np.ones(X_train.shape[0]), X_train]\n",
    "X_test = X_test.reshape(number_of_test,X_test.shape[1]*X_test.shape[2])\n",
    "X_test = np.c_[np.ones(X_test.shape[0]), X_test]"
   ]
  },
  {
   "cell_type": "markdown",
   "metadata": {},
   "source": [
    "# ONE VS ALL METHOD"
   ]
  },
  {
   "cell_type": "code",
   "execution_count": 128,
   "metadata": {},
   "outputs": [],
   "source": [
    "learning_rate = 0.01\n",
    "no_of_iterations = 2000\n",
    "m=X_train.shape[0]\n",
    "def sigmoid(z):\n",
    "    return 1 / (1 + np.exp(-z))\n",
    "def logistic_regression(X_train,Y_train,iteration,learning_rate,m,method=False):\n",
    "    if method==True: \n",
    "        Y_train=Y_train.reshape(Y_train.shape[0],1)\n",
    "    theta = np.zeros((Y_train.shape[1],X_train.shape[1]))\n",
    "    cost_arr = np.empty((0,Y_train.shape[1]))\n",
    "    for i in range(0,no_of_iterations):\n",
    "        lineq = np.dot(X_train, theta.T)\n",
    "        h = sigmoid(lineq)\n",
    "        cost = -1/m * ((Y_train * np.log(h)) + ((1-Y_train) * np.log(1-h)))\n",
    "        cost = cost.sum(axis = 0)\n",
    "        cost_arr = np.vstack((cost_arr, cost))\n",
    "        delta = (learning_rate/m) * np.dot((h-Y_train).T, X_train)\n",
    "        theta = theta - delta\n",
    "    return theta,cost_arr\n",
    "theta,cost_arr=logistic_regression(X_train,Y_train,no_of_iterations,learning_rate,m,False)"
   ]
  },
  {
   "cell_type": "code",
   "execution_count": 129,
   "metadata": {},
   "outputs": [],
   "source": [
    "def predict_val(X_test,theta,Y_test):\n",
    "    model_predict = sigmoid(np.dot(X_test, theta.T))\n",
    "    predict = np.zeros((X_test.shape[0],1))\n",
    "    for row in range(len(model_predict)):\n",
    "        max_ind=-1\n",
    "        max_val=-1\n",
    "        for i in range(0,len(model_predict[row])):\n",
    "            if model_predict[row][i]>max_val:\n",
    "                max_val=model_predict[row][i]\n",
    "                max_ind=i\n",
    "        predict[row]=max_ind\n",
    "    Y_test_label=[np.where(r==1)[0][0] for r in Y_test]\n",
    "    Y_test_label=np.array(Y_test_label)\n",
    "    count1=0\n",
    "    for i in range(0,len(predict)):\n",
    "        if predict[i]==Y_test_label[i]:\n",
    "            count1+=1\n",
    "    Acc=count1/X_test.shape[0]\n",
    "    return Acc,predict\n"
   ]
  },
  {
   "cell_type": "code",
   "execution_count": 130,
   "metadata": {},
   "outputs": [
    {
     "name": "stdout",
     "output_type": "stream",
     "text": [
      "Confusion Matrix\n",
      " [[48  2  0  0  0  1  2  0  0  2]\n",
      " [ 1 58  0  3  1  2  5  0  0  0]\n",
      " [ 0  2 54  3  5  4  2  0  6  0]\n",
      " [ 0  3  4 47  1  1  2  0  5  0]\n",
      " [ 0  3  1  1 39  4  1  2  0  1]\n",
      " [ 3  1  6  0  2 40  0  0  2  1]\n",
      " [ 2  2  8 12  0  7 27  0  3  4]\n",
      " [ 5  0  1  0  2  0  0 51  2  1]\n",
      " [ 0  0  8  5  8  0  0  2 37  0]\n",
      " [ 1  0  1  0  0  1  3  4  0 51]]\n",
      "\n",
      "Classification Report\n",
      "               precision    recall  f1-score   support\n",
      "\n",
      "           0       0.80      0.87      0.83        55\n",
      "           1       0.82      0.83      0.82        70\n",
      "           2       0.65      0.71      0.68        76\n",
      "           3       0.66      0.75      0.70        63\n",
      "           4       0.67      0.75      0.71        52\n",
      "           5       0.67      0.73      0.70        55\n",
      "           6       0.64      0.42      0.50        65\n",
      "           7       0.86      0.82      0.84        62\n",
      "           8       0.67      0.62      0.64        60\n",
      "           9       0.85      0.84      0.84        61\n",
      "\n",
      "    accuracy                           0.73       619\n",
      "   macro avg       0.73      0.73      0.73       619\n",
      "weighted avg       0.73      0.73      0.73       619\n",
      "\n"
     ]
    }
   ],
   "source": [
    "Acc,predict=predict_val(X_test,theta,Y_test)\n",
    "print(\"Confusion Matrix\\n\",confusion_matrix(Y_test_label, predict))\n",
    "print(\"\\nClassification Report\\n\",classification_report(Y_test_label, predict))"
   ]
  },
  {
   "cell_type": "markdown",
   "metadata": {},
   "source": [
    "# ONE VS ONE METHOD"
   ]
  },
  {
   "cell_type": "code",
   "execution_count": 131,
   "metadata": {},
   "outputs": [],
   "source": [
    "Label_Combinations={\"combination\":[],\"weight\":[]}\n",
    "W=[]\n",
    "for i in range(0,Y_train.shape[1]):\n",
    "    for j in range(i+1,Y_train.shape[1]):\n",
    "        X_subset,Y_subset=[],[]\n",
    "        for idx,label in enumerate(Y_train_label):\n",
    "            if label==i:\n",
    "                X_subset.append(X_train[idx])\n",
    "                Y_subset.append(0)\n",
    "            elif label==j:\n",
    "                X_subset.append(X_train[idx])\n",
    "                Y_subset.append(1)\n",
    "        X_subset,Y_subset=np.array(X_subset),np.array(Y_subset)\n",
    "        learning_rate = 0.01\n",
    "        no_of_iterations = 2000\n",
    "        m=X_subset.shape[0]\n",
    "        theta,cost_arr=logistic_regression(X_subset,Y_subset,no_of_iterations,learning_rate,m,True)\n",
    "        theta=theta.reshape(theta.shape[1])\n",
    "        Label_Combinations[\"combination\"].append([i,j])\n",
    "        Label_Combinations[\"weight\"].append(theta)"
   ]
  },
  {
   "cell_type": "code",
   "execution_count": 132,
   "metadata": {},
   "outputs": [],
   "source": [
    "import statistics\n",
    "def predict_val(X_test,theta,Comb):\n",
    "    for_mode=[]\n",
    "    model_predict = sigmoid(np.dot(X_test, theta.T))\n",
    "    for i in range(model_predict.shape[1]):\n",
    "        if model_predict[0][i]>0.5:\n",
    "            for_mode.append(Comb[i][1])\n",
    "        else:\n",
    "            for_mode.append(Comb[i][0])\n",
    "    return statistics.mode(for_mode)\n",
    "            \n",
    "Comb=np.array(Label_Combinations[\"combination\"])\n",
    "thetas=np.array(Label_Combinations[\"weight\"])\n",
    "Y_pred=[]\n",
    "for idx,test_row in enumerate(X_test):\n",
    "    test_row=test_row.reshape(test_row.shape[0],1)\n",
    "    Y_pred.append(predict_val(test_row.T,thetas,Comb))        "
   ]
  },
  {
   "cell_type": "code",
   "execution_count": 133,
   "metadata": {},
   "outputs": [
    {
     "name": "stdout",
     "output_type": "stream",
     "text": [
      "Confusion Matrix\n",
      " [[52  2  0  0  0  0  1  0  0  0]\n",
      " [ 0 63  0  3  1  1  2  0  0  0]\n",
      " [ 0  1 57  3  3  5  2  1  4  0]\n",
      " [ 0  2  5 45  1  1  4  0  5  0]\n",
      " [ 1  3  1  0 40  3  1  2  0  1]\n",
      " [ 2  1  7  0  2 41  0  0  1  1]\n",
      " [ 1  2 12  7  0  3 35  0  3  2]\n",
      " [ 1  0  0  0  1  0  0 55  4  1]\n",
      " [ 0  0  7  1  6  0  0  2 44  0]\n",
      " [ 2  0  0  0  0  0  2  4  0 53]]\n",
      "\n",
      "Classification Report\n",
      "               precision    recall  f1-score   support\n",
      "\n",
      "           0       0.88      0.95      0.91        55\n",
      "           1       0.85      0.90      0.88        70\n",
      "           2       0.64      0.75      0.69        76\n",
      "           3       0.76      0.71      0.74        63\n",
      "           4       0.74      0.77      0.75        52\n",
      "           5       0.76      0.75      0.75        55\n",
      "           6       0.74      0.54      0.62        65\n",
      "           7       0.86      0.89      0.87        62\n",
      "           8       0.72      0.73      0.73        60\n",
      "           9       0.91      0.87      0.89        61\n",
      "\n",
      "    accuracy                           0.78       619\n",
      "   macro avg       0.79      0.79      0.78       619\n",
      "weighted avg       0.78      0.78      0.78       619\n",
      "\n"
     ]
    }
   ],
   "source": [
    "print(\"Confusion Matrix\\n\",confusion_matrix(Y_test_label, Y_pred))\n",
    "print(\"\\nClassification Report\\n\",classification_report(Y_test_label, Y_pred))"
   ]
  },
  {
   "cell_type": "code",
   "execution_count": 288,
   "metadata": {},
   "outputs": [
    {
     "data": {
      "image/png": "[encoded data removed]",
      "text/plain": [
       "<Figure size 432x288 with 1 Axes>"
      ]
     },
     "metadata": {
      "needs_background": "light"
     },
     "output_type": "display_data"
    }
   ],
   "source": [
    "x = np.linspace(-100, 100, 200) \n",
    "z = 1/(1 + np.exp(-x)) \n",
    "  \n",
    "plt.plot(x, z) \n",
    "plt.xlabel(\"x\") \n",
    "plt.ylabel(\"Sigmoid(X)\") \n",
    "  \n",
    "plt.show() "
   ]
  },
  {
   "cell_type": "markdown",
   "metadata": {},
   "source": [
    "\n",
    "# SKLEARN METHOD"
   ]
  },
  {
   "cell_type": "code",
   "execution_count": 157,
   "metadata": {},
   "outputs": [],
   "source": [
    "import warnings\n",
    "warnings.filterwarnings(\"ignore\")\n",
    "x_l = np.load(\"X.npy\") # image\n",
    "y_l = np.load(\"Y.npy\") # label\n",
    "X_train,X_test,Y_train,Y_test = train_test_split(x_l,y_l,test_size=0.30, random_state=42)\n",
    "Y_train_label=[np.where(r==1)[0][0] for r in Y_train]\n",
    "Y_train_label=np.array(Y_train_label)\n",
    "Y_test_label=[np.where(r==1)[0][0] for r in Y_test]\n",
    "Y_test_label=np.array(Y_test_label)\n",
    "X_train = X_train.reshape(number_of_train,X_train.shape[1]*X_train.shape[2])\n",
    "#X_train = np.c_[np.ones(X_train.shape[0]), X_train]\n",
    "X_test = X_test.reshape(number_of_test,X_test.shape[1]*X_test.shape[2])\n",
    "#X_test = np.c_[np.ones(X_test.shape[0]), X_test]\n",
    "from sklearn import linear_model\n",
    "logreg = linear_model.LogisticRegression(random_state = 42, max_iter = 2000)\n",
    "logreg.fit(X_train, Y_train_label)\n",
    "ypred=logreg.predict(X_test)"
   ]
  },
  {
   "cell_type": "code",
   "execution_count": 158,
   "metadata": {},
   "outputs": [
    {
     "name": "stdout",
     "output_type": "stream",
     "text": [
      "Confusion Matrix\n",
      " [[48  1  0  0  0  1  1  2  0  2]\n",
      " [ 2 54  0  4  1  1  8  0  0  0]\n",
      " [ 0  2 50  1  3  4  8  1  7  0]\n",
      " [ 0  0  3 46  1  1  6  0  6  0]\n",
      " [ 0  2  1  1 40  3  2  1  2  0]\n",
      " [ 2  0  6  0  3 38  3  0  2  1]\n",
      " [ 1  1 10  9  0  6 35  0  1  2]\n",
      " [ 1  0  0  0  3  0  0 55  2  1]\n",
      " [ 0  1  5  4  6  1  0  2 41  0]\n",
      " [ 2  0  0  0  0  0  4  2  0 53]]\n",
      "\n",
      "Classification Report\n",
      "               precision    recall  f1-score   support\n",
      "\n",
      "           0       0.86      0.87      0.86        55\n",
      "           1       0.89      0.77      0.82        70\n",
      "           2       0.67      0.66      0.66        76\n",
      "           3       0.71      0.73      0.72        63\n",
      "           4       0.70      0.77      0.73        52\n",
      "           5       0.69      0.69      0.69        55\n",
      "           6       0.52      0.54      0.53        65\n",
      "           7       0.87      0.89      0.88        62\n",
      "           8       0.67      0.68      0.68        60\n",
      "           9       0.90      0.87      0.88        61\n",
      "\n",
      "    accuracy                           0.74       619\n",
      "   macro avg       0.75      0.75      0.75       619\n",
      "weighted avg       0.75      0.74      0.74       619\n",
      "\n"
     ]
    }
   ],
   "source": [
    "print(\"Confusion Matrix\\n\",confusion_matrix(Y_test_label, ypred))\n",
    "print(\"\\nClassification Report\\n\",classification_report(Y_test_label, ypred))"
   ]
  },
  {
   "cell_type": "code",
   "execution_count": 134,
   "metadata": {},
   "outputs": [
    {
     "name": "stdout",
     "output_type": "stream",
     "text": [
      "Predicted_value = 2\n",
      "test_value = 2\n"
     ]
    },
    {
     "data": {
      "image/png": "[encoded data removed]",
      "text/plain": [
       "<Figure size 432x288 with 1 Axes>"
      ]
     },
     "metadata": {
      "needs_background": "light"
     },
     "output_type": "display_data"
    }
   ],
   "source": [
    "x = np.delete(X_test,0,axis=1)\n",
    "def fun1():\n",
    "    n=random.randint(0,X_test.shape[0])\n",
    "    plt.imshow(x[n].reshape(x_l.shape[1],x_l.shape[2]))\n",
    "    print(\"Predicted_value =\",Y_pred[n])\n",
    "    print(\"test_value =\",Y_pred[n])\n",
    "fun1()"
   ]
  },
  {
   "cell_type": "code",
   "execution_count": 142,
   "metadata": {},
   "outputs": [
    {
     "name": "stdout",
     "output_type": "stream",
     "text": [
      "Predicted_value = 7\n",
      "test_value = 7\n"
     ]
    },
    {
     "data": {
      "image/png": "[encoded data removed]",
      "text/plain": [
       "<Figure size 432x288 with 1 Axes>"
      ]
     },
     "metadata": {
      "needs_background": "light"
     },
     "output_type": "display_data"
    }
   ],
   "source": [
    "fun1()"
   ]
  },
  {
   "cell_type": "code",
   "execution_count": 146,
   "metadata": {},
   "outputs": [
    {
     "name": "stdout",
     "output_type": "stream",
     "text": [
      "Predicted_value = 3\n",
      "test_value = 3\n"
     ]
    },
    {
     "data": {
      "image/png": "[encoded data removed]",
      "text/plain": [
       "<Figure size 432x288 with 1 Axes>"
      ]
     },
     "metadata": {
      "needs_background": "light"
     },
     "output_type": "display_data"
    }
   ],
   "source": [
    "fun1()"
   ]
  },
  {
   "cell_type": "code",
   "execution_count": 156,
   "metadata": {},
   "outputs": [
    {
     "name": "stdout",
     "output_type": "stream",
     "text": [
      "Predicted_value = 8\n",
      "test_value = 8\n"
     ]
    },
    {
     "data": {
      "image/png": "[encoded data removed]",
      "text/plain": [
       "<Figure size 432x288 with 1 Axes>"
      ]
     },
     "metadata": {
      "needs_background": "light"
     },
     "output_type": "display_data"
    }
   ],
   "source": [
    "fun1()"
   ]
  }
 ],
 "metadata": {
  "kernelspec": {
   "display_name": "Python 3",
   "language": "python",
   "name": "python3"
  },
  "language_info": {
   "codemirror_mode": {
    "name": "ipython",
    "version": 3
   },
   "file_extension": ".py",
   "mimetype": "text/x-python",
   "name": "python",
   "nbconvert_exporter": "python",
   "pygments_lexer": "ipython3",
   "version": "3.8.3"
  }
 },
 "nbformat": 4,
 "nbformat_minor": 4
}
